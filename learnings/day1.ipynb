{
 "cells": [
  {
   "cell_type": "code",
   "execution_count": 1,
   "metadata": {},
   "outputs": [],
   "source": [
    "import torch\n",
    "import numpy as np"
   ]
  },
  {
   "cell_type": "code",
   "execution_count": 17,
   "metadata": {},
   "outputs": [
    {
     "data": {
      "text/plain": [
       "tensor([[0., 0., 0., 0., 0.],\n",
       "        [0., 0., 0., 0., 0.],\n",
       "        [0., 0., 0., 0., 0.]])"
      ]
     },
     "execution_count": 17,
     "metadata": {},
     "output_type": "execute_result"
    }
   ],
   "source": [
    "torch.zeros((3,5))"
   ]
  },
  {
   "cell_type": "code",
   "execution_count": 35,
   "metadata": {},
   "outputs": [
    {
     "data": {
      "text/plain": [
       "tensor([[0.5534, 0.5744, 0.4143, 0.1772],\n",
       "        [0.6843, 0.8829, 0.0492, 0.5477]])"
      ]
     },
     "execution_count": 35,
     "metadata": {},
     "output_type": "execute_result"
    }
   ],
   "source": [
    "torch.rand(2,4,dtype=torch.float)"
   ]
  },
  {
   "cell_type": "code",
   "execution_count": 19,
   "metadata": {},
   "outputs": [
    {
     "data": {
      "text/plain": [
       "tensor([[1., 1., 1.],\n",
       "        [1., 1., 1.]])"
      ]
     },
     "execution_count": 19,
     "metadata": {},
     "output_type": "execute_result"
    }
   ],
   "source": [
    "torch.ones((2,3))"
   ]
  },
  {
   "cell_type": "code",
   "execution_count": 36,
   "metadata": {},
   "outputs": [],
   "source": [
    "x=torch.rand(4,3)"
   ]
  },
  {
   "cell_type": "code",
   "execution_count": 47,
   "metadata": {},
   "outputs": [
    {
     "name": "stdout",
     "output_type": "stream",
     "text": [
      "torch.Size([4, 3])\n"
     ]
    }
   ],
   "source": [
    "print(x.size())"
   ]
  },
  {
   "cell_type": "code",
   "execution_count": 89,
   "metadata": {},
   "outputs": [],
   "source": [
    "a=np.array([2.5,4.7,5.2])"
   ]
  },
  {
   "cell_type": "code",
   "execution_count": 92,
   "metadata": {},
   "outputs": [],
   "source": [
    "y=torch.tensor(a)"
   ]
  },
  {
   "cell_type": "code",
   "execution_count": 93,
   "metadata": {},
   "outputs": [
    {
     "name": "stdout",
     "output_type": "stream",
     "text": [
      "tensor([2.5000, 4.7000, 5.2000], dtype=torch.float64)\n"
     ]
    }
   ],
   "source": [
    "print(y)"
   ]
  },
  {
   "cell_type": "code",
   "execution_count": 67,
   "metadata": {},
   "outputs": [
    {
     "name": "stdout",
     "output_type": "stream",
     "text": [
      "tensor([[1, 2],\n",
      "        [5, 1]]) \n",
      " tensor([[2, 1],\n",
      "        [3, 4]])\n"
     ]
    }
   ],
   "source": [
    "x=torch.tensor([[1,2],[5,1]])\n",
    "y=torch.tensor([[2,1],[3,4]])\n",
    "print(x,\"\\n\",y)"
   ]
  },
  {
   "cell_type": "code",
   "execution_count": 78,
   "metadata": {},
   "outputs": [
    {
     "name": "stdout",
     "output_type": "stream",
     "text": [
      "element wise multiplication \n",
      " tensor([[ 2,  2],\n",
      "        [15,  4]]) \n",
      " tensor([[ 2,  2],\n",
      "        [15,  4]]) \n",
      " matrixmultiplication \n",
      " tensor([[ 8,  9],\n",
      "        [13,  9]])\n"
     ]
    }
   ],
   "source": [
    "z=x*y\n",
    "z1=torch.mul(x,y)\n",
    "z2=torch.matmul(x,y)\n",
    "print(\"element wise multiplication \\n\",z,\"\\n\",z1,\"\\n matrixmultiplication \\n\",z2)"
   ]
  },
  {
   "cell_type": "code",
   "execution_count": 70,
   "metadata": {},
   "outputs": [],
   "source": [
    "a=np.array(x)\n",
    "b=np.array(y)"
   ]
  },
  {
   "cell_type": "code",
   "execution_count": 71,
   "metadata": {},
   "outputs": [
    {
     "data": {
      "text/plain": [
       "array([[ 2,  2],\n",
       "       [15,  4]], dtype=int64)"
      ]
     },
     "execution_count": 71,
     "metadata": {},
     "output_type": "execute_result"
    }
   ],
   "source": [
    "a*b"
   ]
  },
  {
   "cell_type": "code",
   "execution_count": 88,
   "metadata": {},
   "outputs": [
    {
     "data": {
      "text/plain": [
       "tensor([[2, 1],\n",
       "        [3, 4]])"
      ]
     },
     "execution_count": 88,
     "metadata": {},
     "output_type": "execute_result"
    }
   ],
   "source": [
    "z=y.view(2,2)\n",
    "z"
   ]
  },
  {
   "cell_type": "code",
   "execution_count": 101,
   "metadata": {},
   "outputs": [
    {
     "data": {
      "text/plain": [
       "tensor([[2, 1],\n",
       "        [3, 4]])"
      ]
     },
     "execution_count": 101,
     "metadata": {},
     "output_type": "execute_result"
    }
   ],
   "source": [
    "z"
   ]
  },
  {
   "cell_type": "code",
   "execution_count": 106,
   "metadata": {},
   "outputs": [],
   "source": [
    "a=np.array(z)"
   ]
  },
  {
   "cell_type": "code",
   "execution_count": 107,
   "metadata": {},
   "outputs": [
    {
     "data": {
      "text/plain": [
       "array([[3, 2],\n",
       "       [4, 5]], dtype=int64)"
      ]
     },
     "execution_count": 107,
     "metadata": {},
     "output_type": "execute_result"
    }
   ],
   "source": [
    "a"
   ]
  },
  {
   "cell_type": "code",
   "execution_count": 108,
   "metadata": {},
   "outputs": [
    {
     "data": {
      "text/plain": [
       "tensor([[4, 3],\n",
       "        [5, 6]])"
      ]
     },
     "execution_count": 108,
     "metadata": {},
     "output_type": "execute_result"
    }
   ],
   "source": [
    "z.add_(1)\n",
    "z"
   ]
  },
  {
   "cell_type": "code",
   "execution_count": 109,
   "metadata": {},
   "outputs": [
    {
     "data": {
      "text/plain": [
       "array([[3, 2],\n",
       "       [4, 5]], dtype=int64)"
      ]
     },
     "execution_count": 109,
     "metadata": {},
     "output_type": "execute_result"
    }
   ],
   "source": [
    "a"
   ]
  },
  {
   "cell_type": "code",
   "execution_count": null,
   "metadata": {},
   "outputs": [],
   "source": []
  },
  {
   "cell_type": "markdown",
   "metadata": {},
   "source": [
    "#### device type"
   ]
  },
  {
   "cell_type": "code",
   "execution_count": 112,
   "metadata": {},
   "outputs": [],
   "source": [
    "device=torch.device(\"cuda\")"
   ]
  },
  {
   "cell_type": "code",
   "execution_count": 113,
   "metadata": {},
   "outputs": [],
   "source": [
    "l=torch.ones(5,device=device)"
   ]
  },
  {
   "cell_type": "code",
   "execution_count": 117,
   "metadata": {},
   "outputs": [
    {
     "data": {
      "text/plain": [
       "device(type='cuda', index=0)"
      ]
     },
     "execution_count": 117,
     "metadata": {},
     "output_type": "execute_result"
    }
   ],
   "source": [
    "l.device"
   ]
  },
  {
   "cell_type": "code",
   "execution_count": 123,
   "metadata": {},
   "outputs": [],
   "source": [
    "m=torch.zeros(5)"
   ]
  },
  {
   "cell_type": "code",
   "execution_count": 124,
   "metadata": {},
   "outputs": [
    {
     "data": {
      "text/plain": [
       "device(type='cpu')"
      ]
     },
     "execution_count": 124,
     "metadata": {},
     "output_type": "execute_result"
    }
   ],
   "source": [
    "m.device"
   ]
  },
  {
   "cell_type": "code",
   "execution_count": 125,
   "metadata": {},
   "outputs": [
    {
     "data": {
      "text/plain": [
       "tensor([3., 3., 3., 3., 3.])"
      ]
     },
     "execution_count": 125,
     "metadata": {},
     "output_type": "execute_result"
    }
   ],
   "source": [
    "m+=3\n",
    "m"
   ]
  },
  {
   "cell_type": "code",
   "execution_count": 126,
   "metadata": {},
   "outputs": [],
   "source": [
    "m=m.to(device)"
   ]
  },
  {
   "cell_type": "code",
   "execution_count": 127,
   "metadata": {},
   "outputs": [
    {
     "data": {
      "text/plain": [
       "tensor([3., 3., 3., 3., 3.], device='cuda:0')"
      ]
     },
     "execution_count": 127,
     "metadata": {},
     "output_type": "execute_result"
    }
   ],
   "source": [
    "m"
   ]
  },
  {
   "cell_type": "code",
   "execution_count": 128,
   "metadata": {},
   "outputs": [],
   "source": [
    "z=l+m"
   ]
  },
  {
   "cell_type": "code",
   "execution_count": 129,
   "metadata": {},
   "outputs": [
    {
     "data": {
      "text/plain": [
       "tensor([4., 4., 4., 4., 4.], device='cuda:0')"
      ]
     },
     "execution_count": 129,
     "metadata": {},
     "output_type": "execute_result"
    }
   ],
   "source": [
    "z"
   ]
  },
  {
   "cell_type": "code",
   "execution_count": 130,
   "metadata": {},
   "outputs": [
    {
     "ename": "TypeError",
     "evalue": "can't convert cuda:0 device type tensor to numpy. Use Tensor.cpu() to copy the tensor to host memory first.",
     "output_type": "error",
     "traceback": [
      "\u001b[1;31m---------------------------------------------------------------------------\u001b[0m",
      "\u001b[1;31mTypeError\u001b[0m                                 Traceback (most recent call last)",
      "Cell \u001b[1;32mIn[130], line 1\u001b[0m\n\u001b[1;32m----> 1\u001b[0m k\u001b[38;5;241m=\u001b[39mz\u001b[38;5;241m.\u001b[39mnumpy()\n",
      "\u001b[1;31mTypeError\u001b[0m: can't convert cuda:0 device type tensor to numpy. Use Tensor.cpu() to copy the tensor to host memory first."
     ]
    }
   ],
   "source": [
    "k=z.numpy()"
   ]
  },
  {
   "cell_type": "code",
   "execution_count": 131,
   "metadata": {},
   "outputs": [],
   "source": [
    "z=z.to(\"cpu\")"
   ]
  },
  {
   "cell_type": "code",
   "execution_count": 132,
   "metadata": {},
   "outputs": [],
   "source": [
    "k=z.numpy()"
   ]
  },
  {
   "cell_type": "code",
   "execution_count": 133,
   "metadata": {},
   "outputs": [
    {
     "data": {
      "text/plain": [
       "array([4., 4., 4., 4., 4.], dtype=float32)"
      ]
     },
     "execution_count": 133,
     "metadata": {},
     "output_type": "execute_result"
    }
   ],
   "source": [
    "k"
   ]
  },
  {
   "cell_type": "code",
   "execution_count": null,
   "metadata": {},
   "outputs": [],
   "source": []
  },
  {
   "cell_type": "markdown",
   "metadata": {},
   "source": [
    "#### gradients "
   ]
  },
  {
   "cell_type": "code",
   "execution_count": 176,
   "metadata": {},
   "outputs": [],
   "source": [
    "weights=torch.ones(1,dtype=torch.float32,requires_grad=True)\n",
    "x=torch.tensor([1],dtype=torch.float32)\n",
    "output=weights*x\n",
    "s=output-2\n",
    "loss=s*s"
   ]
  },
  {
   "cell_type": "code",
   "execution_count": 179,
   "metadata": {},
   "outputs": [
    {
     "name": "stdout",
     "output_type": "stream",
     "text": [
      "tensor([1.]) tensor([1.], requires_grad=True) tensor([1.], grad_fn=<MulBackward0>) tensor([-1.], grad_fn=<SubBackward0>) tensor([1.], grad_fn=<MulBackward0>)\n"
     ]
    }
   ],
   "source": [
    "print(x,weights,output,s,loss)"
   ]
  },
  {
   "cell_type": "code",
   "execution_count": 180,
   "metadata": {},
   "outputs": [],
   "source": [
    "loss.backward()"
   ]
  },
  {
   "cell_type": "code",
   "execution_count": 174,
   "metadata": {},
   "outputs": [],
   "source": []
  },
  {
   "cell_type": "code",
   "execution_count": 181,
   "metadata": {},
   "outputs": [
    {
     "data": {
      "text/plain": [
       "tensor([-2.])"
      ]
     },
     "execution_count": 181,
     "metadata": {},
     "output_type": "execute_result"
    }
   ],
   "source": [
    "weights.grad"
   ]
  },
  {
   "cell_type": "code",
   "execution_count": 164,
   "metadata": {},
   "outputs": [
    {
     "data": {
      "text/plain": [
       "tensor([0., 0., 0., 0., 0.])"
      ]
     },
     "execution_count": 164,
     "metadata": {},
     "output_type": "execute_result"
    }
   ],
   "source": [
    "weights.grad.zero_()"
   ]
  },
  {
   "cell_type": "code",
   "execution_count": null,
   "metadata": {},
   "outputs": [],
   "source": []
  },
  {
   "cell_type": "markdown",
   "metadata": {},
   "source": [
    "#### linear regression"
   ]
  },
  {
   "cell_type": "code",
   "execution_count": 10,
   "metadata": {},
   "outputs": [],
   "source": [
    "X=np.array([1,2,3,4],dtype=np.float32)"
   ]
  },
  {
   "cell_type": "code",
   "execution_count": 11,
   "metadata": {},
   "outputs": [],
   "source": [
    "Y=np.array([2,4,6,8],dtype=np.float32)"
   ]
  },
  {
   "cell_type": "code",
   "execution_count": 23,
   "metadata": {},
   "outputs": [],
   "source": [
    "# f=w*x\n",
    "w=0.0\n",
    "\n"
   ]
  },
  {
   "cell_type": "code",
   "execution_count": 13,
   "metadata": {},
   "outputs": [],
   "source": [
    "def forward(x):\n",
    "    return w*x\n",
    "def loss_function(y_pred,y):\n",
    "    return ((y-y_pred)**2).mean()"
   ]
  },
  {
   "cell_type": "code",
   "execution_count": 14,
   "metadata": {},
   "outputs": [],
   "source": [
    "def gradient(x,y,y_pred):\n",
    "    return np.dot(2*x,y_pred-y).mean()\n"
   ]
  },
  {
   "cell_type": "code",
   "execution_count": 37,
   "metadata": {},
   "outputs": [
    {
     "name": "stdout",
     "output_type": "stream",
     "text": [
      "tensor([0.3000, 0.6000, 0.9000, 1.2000])\n",
      "epoch : 1 | loss: 21.675 | w: 1.3200\n",
      "tensor([1.3200, 2.6400, 3.9600, 5.2800])\n",
      "epoch : 2 | loss: 3.468 | w: 1.7280\n",
      "tensor([1.7280, 3.4560, 5.1840, 6.9120])\n",
      "epoch : 3 | loss: 0.555 | w: 1.8912\n",
      "tensor([1.8912, 3.7824, 5.6736, 7.5648])\n",
      "epoch : 4 | loss: 0.089 | w: 1.9565\n",
      "tensor([1.9565, 3.9130, 5.8694, 7.8259])\n",
      "epoch : 5 | loss: 0.014 | w: 1.9826\n",
      "tensor([1.9826, 3.9652, 5.9478, 7.9304])\n",
      "epoch : 6 | loss: 0.002 | w: 1.9930\n",
      "tensor([1.9930, 3.9861, 5.9791, 7.9721])\n",
      "epoch : 7 | loss: 0.000 | w: 1.9972\n",
      "tensor([1.9972, 3.9944, 5.9916, 7.9889])\n",
      "epoch : 8 | loss: 0.000 | w: 1.9989\n",
      "tensor([1.9989, 3.9978, 5.9967, 7.9955])\n",
      "epoch : 9 | loss: 0.000 | w: 1.9996\n",
      "tensor([1.9996, 3.9991, 5.9987, 7.9982])\n",
      "epoch : 10 | loss: 0.000 | w: 1.9998\n"
     ]
    }
   ],
   "source": [
    "alpha=0.01\n",
    "n_iters=10\n",
    "\n",
    "for epoch in range(n_iters):\n",
    "    y_pred=forward(X)\n",
    "    l=loss_function(y_pred,Y)\n",
    "    dw=gradient(X,Y,y_pred)\n",
    "    w=w-alpha*dw\n",
    "    print(f'epoch : {epoch+1} | loss: {l:.3f} | w: {w:.4f}')"
   ]
  },
  {
   "cell_type": "markdown",
   "metadata": {},
   "source": [
    "#### with torch\n"
   ]
  },
  {
   "cell_type": "code",
   "execution_count": 94,
   "metadata": {},
   "outputs": [],
   "source": [
    "import torch\n",
    "import numpy as np"
   ]
  },
  {
   "cell_type": "code",
   "execution_count": 140,
   "metadata": {},
   "outputs": [],
   "source": [
    "X=torch.tensor([0,1,2,3,4,5,6,7,8,9,10],dtype=torch.float32)\n",
    "Y=torch.tensor([1,3,5,7,9,11,13,15,17,19,21],dtype=torch.float32)"
   ]
  },
  {
   "cell_type": "code",
   "execution_count": 147,
   "metadata": {},
   "outputs": [],
   "source": [
    "w=torch.tensor(0,dtype=torch.float32,requires_grad=True)\n",
    "b=torch.tensor(0,dtype=torch.float32,requires_grad=True)\n"
   ]
  },
  {
   "cell_type": "code",
   "execution_count": 148,
   "metadata": {},
   "outputs": [],
   "source": [
    "def forward(x):\n",
    "    return w*x+b\n",
    "def loss_function(y_pred,y):\n",
    "    return ((y-y_pred)**2).mean()"
   ]
  },
  {
   "cell_type": "code",
   "execution_count": 149,
   "metadata": {},
   "outputs": [],
   "source": [
    "loss_variables=[]"
   ]
  },
  {
   "cell_type": "code",
   "execution_count": 150,
   "metadata": {},
   "outputs": [
    {
     "name": "stdout",
     "output_type": "stream",
     "text": [
      "epoch : 1 | loss: 161.000 | w: 0.1500,b:0.0220\n",
      "epoch : 11 | loss: 36.667 | w: 1.1704,b:0.1729\n",
      "epoch : 21 | loss: 8.432 | w: 1.6564,b:0.2469\n",
      "epoch : 31 | loss: 2.018 | w: 1.8877,b:0.2841\n",
      "epoch : 41 | loss: 0.561 | w: 1.9976,b:0.3038\n",
      "epoch : 51 | loss: 0.229 | w: 2.0497,b:0.3152\n",
      "epoch : 61 | loss: 0.152 | w: 2.0742,b:0.3226\n",
      "epoch : 71 | loss: 0.134 | w: 2.0856,b:0.3281\n",
      "epoch : 81 | loss: 0.128 | w: 2.0908,b:0.3327\n",
      "epoch : 91 | loss: 0.126 | w: 2.0930,b:0.3368\n",
      "epoch : 101 | loss: 0.124 | w: 2.0937,b:0.3407\n",
      "epoch : 111 | loss: 0.123 | w: 2.0938,b:0.3444\n",
      "epoch : 121 | loss: 0.122 | w: 2.0936,b:0.3481\n",
      "epoch : 131 | loss: 0.120 | w: 2.0932,b:0.3518\n",
      "epoch : 141 | loss: 0.119 | w: 2.0928,b:0.3554\n",
      "epoch : 151 | loss: 0.118 | w: 2.0923,b:0.3590\n",
      "epoch : 161 | loss: 0.116 | w: 2.0918,b:0.3626\n",
      "epoch : 171 | loss: 0.115 | w: 2.0913,b:0.3662\n",
      "epoch : 181 | loss: 0.114 | w: 2.0908,b:0.3697\n",
      "epoch : 191 | loss: 0.112 | w: 2.0903,b:0.3732\n",
      "epoch : 201 | loss: 0.111 | w: 2.0898,b:0.3767\n",
      "epoch : 211 | loss: 0.110 | w: 2.0893,b:0.3802\n",
      "epoch : 221 | loss: 0.109 | w: 2.0888,b:0.3837\n",
      "epoch : 231 | loss: 0.107 | w: 2.0883,b:0.3871\n",
      "epoch : 241 | loss: 0.106 | w: 2.0878,b:0.3906\n",
      "epoch : 251 | loss: 0.105 | w: 2.0873,b:0.3940\n",
      "epoch : 261 | loss: 0.104 | w: 2.0868,b:0.3973\n",
      "epoch : 271 | loss: 0.103 | w: 2.0863,b:0.4007\n",
      "epoch : 281 | loss: 0.102 | w: 2.0858,b:0.4041\n",
      "epoch : 291 | loss: 0.100 | w: 2.0853,b:0.4074\n",
      "epoch : 301 | loss: 0.099 | w: 2.0849,b:0.4107\n",
      "epoch : 311 | loss: 0.098 | w: 2.0844,b:0.4140\n",
      "epoch : 321 | loss: 0.097 | w: 2.0839,b:0.4173\n",
      "epoch : 331 | loss: 0.096 | w: 2.0835,b:0.4205\n",
      "epoch : 341 | loss: 0.095 | w: 2.0830,b:0.4237\n",
      "epoch : 351 | loss: 0.094 | w: 2.0825,b:0.4270\n",
      "epoch : 361 | loss: 0.093 | w: 2.0821,b:0.4302\n",
      "epoch : 371 | loss: 0.092 | w: 2.0816,b:0.4334\n",
      "epoch : 381 | loss: 0.091 | w: 2.0811,b:0.4365\n",
      "epoch : 391 | loss: 0.090 | w: 2.0807,b:0.4397\n",
      "epoch : 401 | loss: 0.089 | w: 2.0802,b:0.4428\n",
      "epoch : 411 | loss: 0.088 | w: 2.0798,b:0.4459\n",
      "epoch : 421 | loss: 0.087 | w: 2.0793,b:0.4490\n",
      "epoch : 431 | loss: 0.086 | w: 2.0789,b:0.4521\n",
      "epoch : 441 | loss: 0.085 | w: 2.0785,b:0.4551\n",
      "epoch : 451 | loss: 0.084 | w: 2.0780,b:0.4582\n",
      "epoch : 461 | loss: 0.083 | w: 2.0776,b:0.4612\n",
      "epoch : 471 | loss: 0.082 | w: 2.0772,b:0.4642\n",
      "epoch : 481 | loss: 0.081 | w: 2.0767,b:0.4672\n",
      "epoch : 491 | loss: 0.080 | w: 2.0763,b:0.4702\n",
      "epoch : 501 | loss: 0.079 | w: 2.0759,b:0.4731\n",
      "epoch : 511 | loss: 0.079 | w: 2.0754,b:0.4761\n",
      "epoch : 521 | loss: 0.078 | w: 2.0750,b:0.4790\n",
      "epoch : 531 | loss: 0.077 | w: 2.0746,b:0.4819\n",
      "epoch : 541 | loss: 0.076 | w: 2.0742,b:0.4848\n",
      "epoch : 551 | loss: 0.075 | w: 2.0738,b:0.4877\n",
      "epoch : 561 | loss: 0.074 | w: 2.0734,b:0.4906\n",
      "epoch : 571 | loss: 0.073 | w: 2.0730,b:0.4934\n",
      "epoch : 581 | loss: 0.073 | w: 2.0725,b:0.4962\n",
      "epoch : 591 | loss: 0.072 | w: 2.0721,b:0.4990\n",
      "epoch : 601 | loss: 0.071 | w: 2.0717,b:0.5018\n",
      "epoch : 611 | loss: 0.070 | w: 2.0713,b:0.5046\n",
      "epoch : 621 | loss: 0.069 | w: 2.0709,b:0.5074\n",
      "epoch : 631 | loss: 0.069 | w: 2.0705,b:0.5101\n",
      "epoch : 641 | loss: 0.068 | w: 2.0702,b:0.5129\n",
      "epoch : 651 | loss: 0.067 | w: 2.0698,b:0.5156\n",
      "epoch : 661 | loss: 0.066 | w: 2.0694,b:0.5183\n",
      "epoch : 671 | loss: 0.066 | w: 2.0690,b:0.5210\n",
      "epoch : 681 | loss: 0.065 | w: 2.0686,b:0.5237\n",
      "epoch : 691 | loss: 0.064 | w: 2.0682,b:0.5263\n",
      "epoch : 701 | loss: 0.063 | w: 2.0678,b:0.5290\n",
      "epoch : 711 | loss: 0.063 | w: 2.0675,b:0.5316\n",
      "epoch : 721 | loss: 0.062 | w: 2.0671,b:0.5342\n",
      "epoch : 731 | loss: 0.061 | w: 2.0667,b:0.5368\n",
      "epoch : 741 | loss: 0.061 | w: 2.0663,b:0.5394\n",
      "epoch : 751 | loss: 0.060 | w: 2.0660,b:0.5420\n",
      "epoch : 761 | loss: 0.059 | w: 2.0656,b:0.5445\n",
      "epoch : 771 | loss: 0.059 | w: 2.0652,b:0.5471\n",
      "epoch : 781 | loss: 0.058 | w: 2.0649,b:0.5496\n",
      "epoch : 791 | loss: 0.057 | w: 2.0645,b:0.5521\n",
      "epoch : 801 | loss: 0.057 | w: 2.0641,b:0.5546\n",
      "epoch : 811 | loss: 0.056 | w: 2.0638,b:0.5571\n",
      "epoch : 821 | loss: 0.055 | w: 2.0634,b:0.5596\n",
      "epoch : 831 | loss: 0.055 | w: 2.0631,b:0.5620\n",
      "epoch : 841 | loss: 0.054 | w: 2.0627,b:0.5645\n",
      "epoch : 851 | loss: 0.054 | w: 2.0624,b:0.5669\n",
      "epoch : 861 | loss: 0.053 | w: 2.0620,b:0.5693\n",
      "epoch : 871 | loss: 0.052 | w: 2.0617,b:0.5717\n",
      "epoch : 881 | loss: 0.052 | w: 2.0613,b:0.5741\n",
      "epoch : 891 | loss: 0.051 | w: 2.0610,b:0.5765\n",
      "epoch : 901 | loss: 0.051 | w: 2.0606,b:0.5789\n",
      "epoch : 911 | loss: 0.050 | w: 2.0603,b:0.5812\n",
      "epoch : 921 | loss: 0.050 | w: 2.0600,b:0.5836\n",
      "epoch : 931 | loss: 0.049 | w: 2.0596,b:0.5859\n",
      "epoch : 941 | loss: 0.049 | w: 2.0593,b:0.5882\n",
      "epoch : 951 | loss: 0.048 | w: 2.0590,b:0.5905\n",
      "epoch : 961 | loss: 0.047 | w: 2.0586,b:0.5928\n",
      "epoch : 971 | loss: 0.047 | w: 2.0583,b:0.5951\n",
      "epoch : 981 | loss: 0.046 | w: 2.0580,b:0.5973\n",
      "epoch : 991 | loss: 0.046 | w: 2.0577,b:0.5996\n",
      "epoch : 1001 | loss: 0.045 | w: 2.0573,b:0.6018\n",
      "epoch : 1011 | loss: 0.045 | w: 2.0570,b:0.6040\n",
      "epoch : 1021 | loss: 0.044 | w: 2.0567,b:0.6063\n",
      "epoch : 1031 | loss: 0.044 | w: 2.0564,b:0.6085\n",
      "epoch : 1041 | loss: 0.043 | w: 2.0561,b:0.6106\n",
      "epoch : 1051 | loss: 0.043 | w: 2.0558,b:0.6128\n",
      "epoch : 1061 | loss: 0.042 | w: 2.0554,b:0.6150\n",
      "epoch : 1071 | loss: 0.042 | w: 2.0551,b:0.6171\n",
      "epoch : 1081 | loss: 0.041 | w: 2.0548,b:0.6193\n",
      "epoch : 1091 | loss: 0.041 | w: 2.0545,b:0.6214\n",
      "epoch : 1101 | loss: 0.041 | w: 2.0542,b:0.6235\n",
      "epoch : 1111 | loss: 0.040 | w: 2.0539,b:0.6256\n",
      "epoch : 1121 | loss: 0.040 | w: 2.0536,b:0.6277\n",
      "epoch : 1131 | loss: 0.039 | w: 2.0533,b:0.6298\n",
      "epoch : 1141 | loss: 0.039 | w: 2.0530,b:0.6318\n",
      "epoch : 1151 | loss: 0.038 | w: 2.0527,b:0.6339\n",
      "epoch : 1161 | loss: 0.038 | w: 2.0524,b:0.6359\n",
      "epoch : 1171 | loss: 0.037 | w: 2.0521,b:0.6380\n",
      "epoch : 1181 | loss: 0.037 | w: 2.0518,b:0.6400\n",
      "epoch : 1191 | loss: 0.037 | w: 2.0516,b:0.6420\n",
      "epoch : 1201 | loss: 0.036 | w: 2.0513,b:0.6440\n",
      "epoch : 1211 | loss: 0.036 | w: 2.0510,b:0.6460\n",
      "epoch : 1221 | loss: 0.035 | w: 2.0507,b:0.6480\n",
      "epoch : 1231 | loss: 0.035 | w: 2.0504,b:0.6499\n",
      "epoch : 1241 | loss: 0.035 | w: 2.0501,b:0.6519\n",
      "epoch : 1251 | loss: 0.034 | w: 2.0498,b:0.6538\n",
      "epoch : 1261 | loss: 0.034 | w: 2.0496,b:0.6558\n",
      "epoch : 1271 | loss: 0.034 | w: 2.0493,b:0.6577\n",
      "epoch : 1281 | loss: 0.033 | w: 2.0490,b:0.6596\n",
      "epoch : 1291 | loss: 0.033 | w: 2.0487,b:0.6615\n",
      "epoch : 1301 | loss: 0.032 | w: 2.0485,b:0.6634\n",
      "epoch : 1311 | loss: 0.032 | w: 2.0482,b:0.6653\n",
      "epoch : 1321 | loss: 0.032 | w: 2.0479,b:0.6672\n",
      "epoch : 1331 | loss: 0.031 | w: 2.0477,b:0.6690\n",
      "epoch : 1341 | loss: 0.031 | w: 2.0474,b:0.6709\n",
      "epoch : 1351 | loss: 0.031 | w: 2.0471,b:0.6727\n",
      "epoch : 1361 | loss: 0.030 | w: 2.0469,b:0.6745\n",
      "epoch : 1371 | loss: 0.030 | w: 2.0466,b:0.6763\n",
      "epoch : 1381 | loss: 0.030 | w: 2.0463,b:0.6782\n",
      "epoch : 1391 | loss: 0.029 | w: 2.0461,b:0.6799\n",
      "epoch : 1401 | loss: 0.029 | w: 2.0458,b:0.6817\n",
      "epoch : 1411 | loss: 0.029 | w: 2.0456,b:0.6835\n",
      "epoch : 1421 | loss: 0.028 | w: 2.0453,b:0.6853\n",
      "epoch : 1431 | loss: 0.028 | w: 2.0451,b:0.6870\n",
      "epoch : 1441 | loss: 0.028 | w: 2.0448,b:0.6888\n",
      "epoch : 1451 | loss: 0.027 | w: 2.0446,b:0.6905\n",
      "epoch : 1461 | loss: 0.027 | w: 2.0443,b:0.6923\n",
      "epoch : 1471 | loss: 0.027 | w: 2.0441,b:0.6940\n",
      "epoch : 1481 | loss: 0.026 | w: 2.0438,b:0.6957\n",
      "epoch : 1491 | loss: 0.026 | w: 2.0436,b:0.6974\n",
      "epoch : 1501 | loss: 0.026 | w: 2.0433,b:0.6991\n",
      "epoch : 1511 | loss: 0.026 | w: 2.0431,b:0.7008\n",
      "epoch : 1521 | loss: 0.025 | w: 2.0429,b:0.7024\n",
      "epoch : 1531 | loss: 0.025 | w: 2.0426,b:0.7041\n",
      "epoch : 1541 | loss: 0.025 | w: 2.0424,b:0.7057\n",
      "epoch : 1551 | loss: 0.024 | w: 2.0421,b:0.7074\n",
      "epoch : 1561 | loss: 0.024 | w: 2.0419,b:0.7090\n",
      "epoch : 1571 | loss: 0.024 | w: 2.0417,b:0.7106\n",
      "epoch : 1581 | loss: 0.024 | w: 2.0414,b:0.7123\n",
      "epoch : 1591 | loss: 0.023 | w: 2.0412,b:0.7139\n",
      "epoch : 1601 | loss: 0.023 | w: 2.0410,b:0.7155\n",
      "epoch : 1611 | loss: 0.023 | w: 2.0407,b:0.7171\n",
      "epoch : 1621 | loss: 0.023 | w: 2.0405,b:0.7186\n",
      "epoch : 1631 | loss: 0.022 | w: 2.0403,b:0.7202\n",
      "epoch : 1641 | loss: 0.022 | w: 2.0401,b:0.7218\n",
      "epoch : 1651 | loss: 0.022 | w: 2.0398,b:0.7233\n",
      "epoch : 1661 | loss: 0.022 | w: 2.0396,b:0.7249\n",
      "epoch : 1671 | loss: 0.021 | w: 2.0394,b:0.7264\n",
      "epoch : 1681 | loss: 0.021 | w: 2.0392,b:0.7279\n",
      "epoch : 1691 | loss: 0.021 | w: 2.0390,b:0.7294\n",
      "epoch : 1701 | loss: 0.021 | w: 2.0387,b:0.7310\n",
      "epoch : 1711 | loss: 0.020 | w: 2.0385,b:0.7325\n",
      "epoch : 1721 | loss: 0.020 | w: 2.0383,b:0.7340\n",
      "epoch : 1731 | loss: 0.020 | w: 2.0381,b:0.7354\n",
      "epoch : 1741 | loss: 0.020 | w: 2.0379,b:0.7369\n",
      "epoch : 1751 | loss: 0.020 | w: 2.0377,b:0.7384\n",
      "epoch : 1761 | loss: 0.019 | w: 2.0375,b:0.7399\n",
      "epoch : 1771 | loss: 0.019 | w: 2.0373,b:0.7413\n",
      "epoch : 1781 | loss: 0.019 | w: 2.0370,b:0.7427\n",
      "epoch : 1791 | loss: 0.019 | w: 2.0368,b:0.7442\n",
      "epoch : 1801 | loss: 0.019 | w: 2.0366,b:0.7456\n",
      "epoch : 1811 | loss: 0.018 | w: 2.0364,b:0.7470\n",
      "epoch : 1821 | loss: 0.018 | w: 2.0362,b:0.7484\n",
      "epoch : 1831 | loss: 0.018 | w: 2.0360,b:0.7499\n",
      "epoch : 1841 | loss: 0.018 | w: 2.0358,b:0.7512\n",
      "epoch : 1851 | loss: 0.018 | w: 2.0356,b:0.7526\n",
      "epoch : 1861 | loss: 0.017 | w: 2.0354,b:0.7540\n",
      "epoch : 1871 | loss: 0.017 | w: 2.0352,b:0.7554\n",
      "epoch : 1881 | loss: 0.017 | w: 2.0350,b:0.7568\n",
      "epoch : 1891 | loss: 0.017 | w: 2.0348,b:0.7581\n",
      "epoch : 1901 | loss: 0.017 | w: 2.0346,b:0.7595\n",
      "epoch : 1911 | loss: 0.016 | w: 2.0344,b:0.7608\n",
      "epoch : 1921 | loss: 0.016 | w: 2.0343,b:0.7621\n",
      "epoch : 1931 | loss: 0.016 | w: 2.0341,b:0.7635\n",
      "epoch : 1941 | loss: 0.016 | w: 2.0339,b:0.7648\n",
      "epoch : 1951 | loss: 0.016 | w: 2.0337,b:0.7661\n",
      "epoch : 1961 | loss: 0.015 | w: 2.0335,b:0.7674\n",
      "epoch : 1971 | loss: 0.015 | w: 2.0333,b:0.7687\n",
      "epoch : 1981 | loss: 0.015 | w: 2.0331,b:0.7700\n",
      "epoch : 1991 | loss: 0.015 | w: 2.0329,b:0.7713\n",
      "epoch : 2001 | loss: 0.015 | w: 2.0328,b:0.7726\n",
      "epoch : 2011 | loss: 0.015 | w: 2.0326,b:0.7738\n",
      "epoch : 2021 | loss: 0.014 | w: 2.0324,b:0.7751\n",
      "epoch : 2031 | loss: 0.014 | w: 2.0322,b:0.7764\n",
      "epoch : 2041 | loss: 0.014 | w: 2.0320,b:0.7776\n",
      "epoch : 2051 | loss: 0.014 | w: 2.0318,b:0.7789\n",
      "epoch : 2061 | loss: 0.014 | w: 2.0317,b:0.7801\n",
      "epoch : 2071 | loss: 0.014 | w: 2.0315,b:0.7813\n",
      "epoch : 2081 | loss: 0.014 | w: 2.0313,b:0.7825\n",
      "epoch : 2091 | loss: 0.013 | w: 2.0311,b:0.7837\n",
      "epoch : 2101 | loss: 0.013 | w: 2.0310,b:0.7850\n",
      "epoch : 2111 | loss: 0.013 | w: 2.0308,b:0.7862\n",
      "epoch : 2121 | loss: 0.013 | w: 2.0306,b:0.7874\n",
      "epoch : 2131 | loss: 0.013 | w: 2.0305,b:0.7885\n",
      "epoch : 2141 | loss: 0.013 | w: 2.0303,b:0.7897\n",
      "epoch : 2151 | loss: 0.013 | w: 2.0301,b:0.7909\n",
      "epoch : 2161 | loss: 0.012 | w: 2.0299,b:0.7921\n",
      "epoch : 2171 | loss: 0.012 | w: 2.0298,b:0.7932\n",
      "epoch : 2181 | loss: 0.012 | w: 2.0296,b:0.7944\n",
      "epoch : 2191 | loss: 0.012 | w: 2.0294,b:0.7955\n",
      "epoch : 2201 | loss: 0.012 | w: 2.0293,b:0.7967\n",
      "epoch : 2211 | loss: 0.012 | w: 2.0291,b:0.7978\n",
      "epoch : 2221 | loss: 0.012 | w: 2.0290,b:0.7989\n",
      "epoch : 2231 | loss: 0.011 | w: 2.0288,b:0.8001\n",
      "epoch : 2241 | loss: 0.011 | w: 2.0286,b:0.8012\n",
      "epoch : 2251 | loss: 0.011 | w: 2.0285,b:0.8023\n",
      "epoch : 2261 | loss: 0.011 | w: 2.0283,b:0.8034\n",
      "epoch : 2271 | loss: 0.011 | w: 2.0282,b:0.8045\n",
      "epoch : 2281 | loss: 0.011 | w: 2.0280,b:0.8056\n",
      "epoch : 2291 | loss: 0.011 | w: 2.0278,b:0.8067\n",
      "epoch : 2301 | loss: 0.011 | w: 2.0277,b:0.8077\n",
      "epoch : 2311 | loss: 0.010 | w: 2.0275,b:0.8088\n",
      "epoch : 2321 | loss: 0.010 | w: 2.0274,b:0.8099\n",
      "epoch : 2331 | loss: 0.010 | w: 2.0272,b:0.8109\n",
      "epoch : 2341 | loss: 0.010 | w: 2.0271,b:0.8120\n",
      "epoch : 2351 | loss: 0.010 | w: 2.0269,b:0.8131\n",
      "epoch : 2361 | loss: 0.010 | w: 2.0268,b:0.8141\n",
      "epoch : 2371 | loss: 0.010 | w: 2.0266,b:0.8151\n",
      "epoch : 2381 | loss: 0.010 | w: 2.0265,b:0.8162\n",
      "epoch : 2391 | loss: 0.010 | w: 2.0263,b:0.8172\n",
      "epoch : 2401 | loss: 0.009 | w: 2.0262,b:0.8182\n",
      "epoch : 2411 | loss: 0.009 | w: 2.0260,b:0.8192\n",
      "epoch : 2421 | loss: 0.009 | w: 2.0259,b:0.8202\n",
      "epoch : 2431 | loss: 0.009 | w: 2.0257,b:0.8212\n",
      "epoch : 2441 | loss: 0.009 | w: 2.0256,b:0.8222\n",
      "epoch : 2451 | loss: 0.009 | w: 2.0255,b:0.8232\n",
      "epoch : 2461 | loss: 0.009 | w: 2.0253,b:0.8242\n",
      "epoch : 2471 | loss: 0.009 | w: 2.0252,b:0.8252\n",
      "epoch : 2481 | loss: 0.009 | w: 2.0250,b:0.8262\n",
      "epoch : 2491 | loss: 0.009 | w: 2.0249,b:0.8272\n",
      "epoch : 2501 | loss: 0.008 | w: 2.0248,b:0.8281\n",
      "epoch : 2511 | loss: 0.008 | w: 2.0246,b:0.8291\n",
      "epoch : 2521 | loss: 0.008 | w: 2.0245,b:0.8300\n",
      "epoch : 2531 | loss: 0.008 | w: 2.0243,b:0.8310\n",
      "epoch : 2541 | loss: 0.008 | w: 2.0242,b:0.8319\n",
      "epoch : 2551 | loss: 0.008 | w: 2.0241,b:0.8329\n",
      "epoch : 2561 | loss: 0.008 | w: 2.0239,b:0.8338\n",
      "epoch : 2571 | loss: 0.008 | w: 2.0238,b:0.8347\n",
      "epoch : 2581 | loss: 0.008 | w: 2.0237,b:0.8356\n",
      "epoch : 2591 | loss: 0.008 | w: 2.0235,b:0.8366\n",
      "epoch : 2601 | loss: 0.008 | w: 2.0234,b:0.8375\n",
      "epoch : 2611 | loss: 0.007 | w: 2.0233,b:0.8384\n",
      "epoch : 2621 | loss: 0.007 | w: 2.0231,b:0.8393\n",
      "epoch : 2631 | loss: 0.007 | w: 2.0230,b:0.8402\n",
      "epoch : 2641 | loss: 0.007 | w: 2.0229,b:0.8411\n",
      "epoch : 2651 | loss: 0.007 | w: 2.0228,b:0.8420\n",
      "epoch : 2661 | loss: 0.007 | w: 2.0226,b:0.8428\n",
      "epoch : 2671 | loss: 0.007 | w: 2.0225,b:0.8437\n",
      "epoch : 2681 | loss: 0.007 | w: 2.0224,b:0.8446\n",
      "epoch : 2691 | loss: 0.007 | w: 2.0223,b:0.8455\n",
      "epoch : 2701 | loss: 0.007 | w: 2.0221,b:0.8463\n",
      "epoch : 2711 | loss: 0.007 | w: 2.0220,b:0.8472\n",
      "epoch : 2721 | loss: 0.007 | w: 2.0219,b:0.8480\n",
      "epoch : 2731 | loss: 0.007 | w: 2.0218,b:0.8489\n",
      "epoch : 2741 | loss: 0.006 | w: 2.0216,b:0.8497\n",
      "epoch : 2751 | loss: 0.006 | w: 2.0215,b:0.8506\n",
      "epoch : 2761 | loss: 0.006 | w: 2.0214,b:0.8514\n",
      "epoch : 2771 | loss: 0.006 | w: 2.0213,b:0.8522\n",
      "epoch : 2781 | loss: 0.006 | w: 2.0212,b:0.8531\n",
      "epoch : 2791 | loss: 0.006 | w: 2.0210,b:0.8539\n",
      "epoch : 2801 | loss: 0.006 | w: 2.0209,b:0.8547\n",
      "epoch : 2811 | loss: 0.006 | w: 2.0208,b:0.8555\n",
      "epoch : 2821 | loss: 0.006 | w: 2.0207,b:0.8563\n",
      "epoch : 2831 | loss: 0.006 | w: 2.0206,b:0.8571\n",
      "epoch : 2841 | loss: 0.006 | w: 2.0205,b:0.8579\n",
      "epoch : 2851 | loss: 0.006 | w: 2.0203,b:0.8587\n",
      "epoch : 2861 | loss: 0.006 | w: 2.0202,b:0.8595\n",
      "epoch : 2871 | loss: 0.006 | w: 2.0201,b:0.8603\n",
      "epoch : 2881 | loss: 0.006 | w: 2.0200,b:0.8611\n",
      "epoch : 2891 | loss: 0.005 | w: 2.0199,b:0.8618\n",
      "epoch : 2901 | loss: 0.005 | w: 2.0198,b:0.8626\n",
      "epoch : 2911 | loss: 0.005 | w: 2.0197,b:0.8634\n",
      "epoch : 2921 | loss: 0.005 | w: 2.0196,b:0.8641\n",
      "epoch : 2931 | loss: 0.005 | w: 2.0195,b:0.8649\n",
      "epoch : 2941 | loss: 0.005 | w: 2.0193,b:0.8657\n",
      "epoch : 2951 | loss: 0.005 | w: 2.0192,b:0.8664\n",
      "epoch : 2961 | loss: 0.005 | w: 2.0191,b:0.8672\n",
      "epoch : 2971 | loss: 0.005 | w: 2.0190,b:0.8679\n",
      "epoch : 2981 | loss: 0.005 | w: 2.0189,b:0.8686\n",
      "epoch : 2991 | loss: 0.005 | w: 2.0188,b:0.8694\n",
      "epoch : 3001 | loss: 0.005 | w: 2.0187,b:0.8701\n",
      "epoch : 3011 | loss: 0.005 | w: 2.0186,b:0.8708\n",
      "epoch : 3021 | loss: 0.005 | w: 2.0185,b:0.8715\n",
      "epoch : 3031 | loss: 0.005 | w: 2.0184,b:0.8723\n",
      "epoch : 3041 | loss: 0.005 | w: 2.0183,b:0.8730\n",
      "epoch : 3051 | loss: 0.005 | w: 2.0182,b:0.8737\n",
      "epoch : 3061 | loss: 0.005 | w: 2.0181,b:0.8744\n",
      "epoch : 3071 | loss: 0.004 | w: 2.0180,b:0.8751\n",
      "epoch : 3081 | loss: 0.004 | w: 2.0179,b:0.8758\n",
      "epoch : 3091 | loss: 0.004 | w: 2.0178,b:0.8765\n",
      "epoch : 3101 | loss: 0.004 | w: 2.0177,b:0.8772\n",
      "epoch : 3111 | loss: 0.004 | w: 2.0176,b:0.8779\n",
      "epoch : 3121 | loss: 0.004 | w: 2.0175,b:0.8785\n",
      "epoch : 3131 | loss: 0.004 | w: 2.0174,b:0.8792\n",
      "epoch : 3141 | loss: 0.004 | w: 2.0173,b:0.8799\n",
      "epoch : 3151 | loss: 0.004 | w: 2.0172,b:0.8806\n",
      "epoch : 3161 | loss: 0.004 | w: 2.0171,b:0.8812\n",
      "epoch : 3171 | loss: 0.004 | w: 2.0170,b:0.8819\n",
      "epoch : 3181 | loss: 0.004 | w: 2.0169,b:0.8826\n",
      "epoch : 3191 | loss: 0.004 | w: 2.0168,b:0.8832\n",
      "epoch : 3201 | loss: 0.004 | w: 2.0167,b:0.8839\n",
      "epoch : 3211 | loss: 0.004 | w: 2.0166,b:0.8845\n",
      "epoch : 3221 | loss: 0.004 | w: 2.0165,b:0.8852\n",
      "epoch : 3231 | loss: 0.004 | w: 2.0164,b:0.8858\n",
      "epoch : 3241 | loss: 0.004 | w: 2.0164,b:0.8864\n",
      "epoch : 3251 | loss: 0.004 | w: 2.0163,b:0.8871\n",
      "epoch : 3261 | loss: 0.004 | w: 2.0162,b:0.8877\n",
      "epoch : 3271 | loss: 0.004 | w: 2.0161,b:0.8883\n",
      "epoch : 3281 | loss: 0.004 | w: 2.0160,b:0.8889\n",
      "epoch : 3291 | loss: 0.003 | w: 2.0159,b:0.8896\n",
      "epoch : 3301 | loss: 0.003 | w: 2.0158,b:0.8902\n",
      "epoch : 3311 | loss: 0.003 | w: 2.0157,b:0.8908\n",
      "epoch : 3321 | loss: 0.003 | w: 2.0156,b:0.8914\n",
      "epoch : 3331 | loss: 0.003 | w: 2.0156,b:0.8920\n",
      "epoch : 3341 | loss: 0.003 | w: 2.0155,b:0.8926\n",
      "epoch : 3351 | loss: 0.003 | w: 2.0154,b:0.8932\n",
      "epoch : 3361 | loss: 0.003 | w: 2.0153,b:0.8938\n",
      "epoch : 3371 | loss: 0.003 | w: 2.0152,b:0.8944\n",
      "epoch : 3381 | loss: 0.003 | w: 2.0151,b:0.8950\n",
      "epoch : 3391 | loss: 0.003 | w: 2.0150,b:0.8956\n",
      "epoch : 3401 | loss: 0.003 | w: 2.0150,b:0.8962\n",
      "epoch : 3411 | loss: 0.003 | w: 2.0149,b:0.8967\n",
      "epoch : 3421 | loss: 0.003 | w: 2.0148,b:0.8973\n",
      "epoch : 3431 | loss: 0.003 | w: 2.0147,b:0.8979\n",
      "epoch : 3441 | loss: 0.003 | w: 2.0146,b:0.8985\n",
      "epoch : 3451 | loss: 0.003 | w: 2.0145,b:0.8990\n",
      "epoch : 3461 | loss: 0.003 | w: 2.0145,b:0.8996\n",
      "epoch : 3471 | loss: 0.003 | w: 2.0144,b:0.9002\n",
      "epoch : 3481 | loss: 0.003 | w: 2.0143,b:0.9007\n",
      "epoch : 3491 | loss: 0.003 | w: 2.0142,b:0.9013\n",
      "epoch : 3501 | loss: 0.003 | w: 2.0141,b:0.9018\n",
      "epoch : 3511 | loss: 0.003 | w: 2.0141,b:0.9024\n",
      "epoch : 3521 | loss: 0.003 | w: 2.0140,b:0.9029\n",
      "epoch : 3531 | loss: 0.003 | w: 2.0139,b:0.9035\n",
      "epoch : 3541 | loss: 0.003 | w: 2.0138,b:0.9040\n",
      "epoch : 3551 | loss: 0.003 | w: 2.0137,b:0.9045\n",
      "epoch : 3561 | loss: 0.003 | w: 2.0137,b:0.9051\n",
      "epoch : 3571 | loss: 0.003 | w: 2.0136,b:0.9056\n",
      "epoch : 3581 | loss: 0.003 | w: 2.0135,b:0.9061\n",
      "epoch : 3591 | loss: 0.002 | w: 2.0134,b:0.9066\n",
      "epoch : 3601 | loss: 0.002 | w: 2.0134,b:0.9072\n",
      "epoch : 3611 | loss: 0.002 | w: 2.0133,b:0.9077\n",
      "epoch : 3621 | loss: 0.002 | w: 2.0132,b:0.9082\n",
      "epoch : 3631 | loss: 0.002 | w: 2.0131,b:0.9087\n",
      "epoch : 3641 | loss: 0.002 | w: 2.0131,b:0.9092\n",
      "epoch : 3651 | loss: 0.002 | w: 2.0130,b:0.9097\n",
      "epoch : 3661 | loss: 0.002 | w: 2.0129,b:0.9102\n",
      "epoch : 3671 | loss: 0.002 | w: 2.0129,b:0.9107\n",
      "epoch : 3681 | loss: 0.002 | w: 2.0128,b:0.9112\n",
      "epoch : 3691 | loss: 0.002 | w: 2.0127,b:0.9117\n",
      "epoch : 3701 | loss: 0.002 | w: 2.0126,b:0.9122\n",
      "epoch : 3711 | loss: 0.002 | w: 2.0126,b:0.9127\n",
      "epoch : 3721 | loss: 0.002 | w: 2.0125,b:0.9132\n",
      "epoch : 3731 | loss: 0.002 | w: 2.0124,b:0.9137\n",
      "epoch : 3741 | loss: 0.002 | w: 2.0124,b:0.9142\n",
      "epoch : 3751 | loss: 0.002 | w: 2.0123,b:0.9146\n",
      "epoch : 3761 | loss: 0.002 | w: 2.0122,b:0.9151\n",
      "epoch : 3771 | loss: 0.002 | w: 2.0122,b:0.9156\n",
      "epoch : 3781 | loss: 0.002 | w: 2.0121,b:0.9161\n",
      "epoch : 3791 | loss: 0.002 | w: 2.0120,b:0.9165\n",
      "epoch : 3801 | loss: 0.002 | w: 2.0120,b:0.9170\n",
      "epoch : 3811 | loss: 0.002 | w: 2.0119,b:0.9175\n",
      "epoch : 3821 | loss: 0.002 | w: 2.0118,b:0.9179\n",
      "epoch : 3831 | loss: 0.002 | w: 2.0118,b:0.9184\n",
      "epoch : 3841 | loss: 0.002 | w: 2.0117,b:0.9188\n",
      "epoch : 3851 | loss: 0.002 | w: 2.0116,b:0.9193\n",
      "epoch : 3861 | loss: 0.002 | w: 2.0116,b:0.9197\n",
      "epoch : 3871 | loss: 0.002 | w: 2.0115,b:0.9202\n",
      "epoch : 3881 | loss: 0.002 | w: 2.0114,b:0.9206\n",
      "epoch : 3891 | loss: 0.002 | w: 2.0114,b:0.9211\n",
      "epoch : 3901 | loss: 0.002 | w: 2.0113,b:0.9215\n",
      "epoch : 3911 | loss: 0.002 | w: 2.0112,b:0.9220\n",
      "epoch : 3921 | loss: 0.002 | w: 2.0112,b:0.9224\n",
      "epoch : 3931 | loss: 0.002 | w: 2.0111,b:0.9228\n",
      "epoch : 3941 | loss: 0.002 | w: 2.0111,b:0.9233\n",
      "epoch : 3951 | loss: 0.002 | w: 2.0110,b:0.9237\n",
      "epoch : 3961 | loss: 0.002 | w: 2.0109,b:0.9241\n",
      "epoch : 3971 | loss: 0.002 | w: 2.0109,b:0.9245\n",
      "epoch : 3981 | loss: 0.002 | w: 2.0108,b:0.9250\n",
      "epoch : 3991 | loss: 0.002 | w: 2.0107,b:0.9254\n",
      "epoch : 4001 | loss: 0.002 | w: 2.0107,b:0.9258\n",
      "epoch : 4011 | loss: 0.002 | w: 2.0106,b:0.9262\n",
      "epoch : 4021 | loss: 0.002 | w: 2.0106,b:0.9266\n",
      "epoch : 4031 | loss: 0.002 | w: 2.0105,b:0.9270\n",
      "epoch : 4041 | loss: 0.002 | w: 2.0104,b:0.9274\n",
      "epoch : 4051 | loss: 0.001 | w: 2.0104,b:0.9278\n",
      "epoch : 4061 | loss: 0.001 | w: 2.0103,b:0.9282\n",
      "epoch : 4071 | loss: 0.001 | w: 2.0103,b:0.9286\n",
      "epoch : 4081 | loss: 0.001 | w: 2.0102,b:0.9290\n",
      "epoch : 4091 | loss: 0.001 | w: 2.0102,b:0.9294\n",
      "epoch : 4101 | loss: 0.001 | w: 2.0101,b:0.9298\n",
      "epoch : 4111 | loss: 0.001 | w: 2.0100,b:0.9302\n",
      "epoch : 4121 | loss: 0.001 | w: 2.0100,b:0.9306\n",
      "epoch : 4131 | loss: 0.001 | w: 2.0099,b:0.9310\n",
      "epoch : 4141 | loss: 0.001 | w: 2.0099,b:0.9314\n",
      "epoch : 4151 | loss: 0.001 | w: 2.0098,b:0.9318\n",
      "epoch : 4161 | loss: 0.001 | w: 2.0098,b:0.9322\n",
      "epoch : 4171 | loss: 0.001 | w: 2.0097,b:0.9325\n",
      "epoch : 4181 | loss: 0.001 | w: 2.0097,b:0.9329\n",
      "epoch : 4191 | loss: 0.001 | w: 2.0096,b:0.9333\n",
      "epoch : 4201 | loss: 0.001 | w: 2.0096,b:0.9337\n",
      "epoch : 4211 | loss: 0.001 | w: 2.0095,b:0.9340\n",
      "epoch : 4221 | loss: 0.001 | w: 2.0094,b:0.9344\n",
      "epoch : 4231 | loss: 0.001 | w: 2.0094,b:0.9348\n",
      "epoch : 4241 | loss: 0.001 | w: 2.0093,b:0.9351\n",
      "epoch : 4251 | loss: 0.001 | w: 2.0093,b:0.9355\n",
      "epoch : 4261 | loss: 0.001 | w: 2.0092,b:0.9359\n",
      "epoch : 4271 | loss: 0.001 | w: 2.0092,b:0.9362\n",
      "epoch : 4281 | loss: 0.001 | w: 2.0091,b:0.9366\n",
      "epoch : 4291 | loss: 0.001 | w: 2.0091,b:0.9369\n",
      "epoch : 4301 | loss: 0.001 | w: 2.0090,b:0.9373\n",
      "epoch : 4311 | loss: 0.001 | w: 2.0090,b:0.9376\n",
      "epoch : 4321 | loss: 0.001 | w: 2.0089,b:0.9380\n",
      "epoch : 4331 | loss: 0.001 | w: 2.0089,b:0.9383\n",
      "epoch : 4341 | loss: 0.001 | w: 2.0088,b:0.9387\n",
      "epoch : 4351 | loss: 0.001 | w: 2.0088,b:0.9390\n",
      "epoch : 4361 | loss: 0.001 | w: 2.0087,b:0.9393\n",
      "epoch : 4371 | loss: 0.001 | w: 2.0087,b:0.9397\n",
      "epoch : 4381 | loss: 0.001 | w: 2.0086,b:0.9400\n",
      "epoch : 4391 | loss: 0.001 | w: 2.0086,b:0.9404\n",
      "epoch : 4401 | loss: 0.001 | w: 2.0085,b:0.9407\n",
      "epoch : 4411 | loss: 0.001 | w: 2.0085,b:0.9410\n",
      "epoch : 4421 | loss: 0.001 | w: 2.0084,b:0.9413\n",
      "epoch : 4431 | loss: 0.001 | w: 2.0084,b:0.9417\n",
      "epoch : 4441 | loss: 0.001 | w: 2.0084,b:0.9420\n",
      "epoch : 4451 | loss: 0.001 | w: 2.0083,b:0.9423\n",
      "epoch : 4461 | loss: 0.001 | w: 2.0083,b:0.9426\n",
      "epoch : 4471 | loss: 0.001 | w: 2.0082,b:0.9430\n",
      "epoch : 4481 | loss: 0.001 | w: 2.0082,b:0.9433\n",
      "epoch : 4491 | loss: 0.001 | w: 2.0081,b:0.9436\n",
      "epoch : 4501 | loss: 0.001 | w: 2.0081,b:0.9439\n",
      "epoch : 4511 | loss: 0.001 | w: 2.0080,b:0.9442\n",
      "epoch : 4521 | loss: 0.001 | w: 2.0080,b:0.9445\n",
      "epoch : 4531 | loss: 0.001 | w: 2.0079,b:0.9449\n",
      "epoch : 4541 | loss: 0.001 | w: 2.0079,b:0.9452\n",
      "epoch : 4551 | loss: 0.001 | w: 2.0079,b:0.9455\n",
      "epoch : 4561 | loss: 0.001 | w: 2.0078,b:0.9458\n",
      "epoch : 4571 | loss: 0.001 | w: 2.0078,b:0.9461\n",
      "epoch : 4581 | loss: 0.001 | w: 2.0077,b:0.9464\n",
      "epoch : 4591 | loss: 0.001 | w: 2.0077,b:0.9467\n",
      "epoch : 4601 | loss: 0.001 | w: 2.0076,b:0.9470\n",
      "epoch : 4611 | loss: 0.001 | w: 2.0076,b:0.9473\n",
      "epoch : 4621 | loss: 0.001 | w: 2.0076,b:0.9476\n",
      "epoch : 4631 | loss: 0.001 | w: 2.0075,b:0.9479\n",
      "epoch : 4641 | loss: 0.001 | w: 2.0075,b:0.9481\n",
      "epoch : 4651 | loss: 0.001 | w: 2.0074,b:0.9484\n",
      "epoch : 4661 | loss: 0.001 | w: 2.0074,b:0.9487\n",
      "epoch : 4671 | loss: 0.001 | w: 2.0073,b:0.9490\n",
      "epoch : 4681 | loss: 0.001 | w: 2.0073,b:0.9493\n",
      "epoch : 4691 | loss: 0.001 | w: 2.0073,b:0.9496\n",
      "epoch : 4701 | loss: 0.001 | w: 2.0072,b:0.9499\n",
      "epoch : 4711 | loss: 0.001 | w: 2.0072,b:0.9501\n",
      "epoch : 4721 | loss: 0.001 | w: 2.0071,b:0.9504\n",
      "epoch : 4731 | loss: 0.001 | w: 2.0071,b:0.9507\n",
      "epoch : 4741 | loss: 0.001 | w: 2.0071,b:0.9510\n",
      "epoch : 4751 | loss: 0.001 | w: 2.0070,b:0.9512\n",
      "epoch : 4761 | loss: 0.001 | w: 2.0070,b:0.9515\n",
      "epoch : 4771 | loss: 0.001 | w: 2.0069,b:0.9518\n",
      "epoch : 4781 | loss: 0.001 | w: 2.0069,b:0.9521\n",
      "epoch : 4791 | loss: 0.001 | w: 2.0069,b:0.9523\n",
      "epoch : 4801 | loss: 0.001 | w: 2.0068,b:0.9526\n",
      "epoch : 4811 | loss: 0.001 | w: 2.0068,b:0.9529\n",
      "epoch : 4821 | loss: 0.001 | w: 2.0068,b:0.9531\n",
      "epoch : 4831 | loss: 0.001 | w: 2.0067,b:0.9534\n",
      "epoch : 4841 | loss: 0.001 | w: 2.0067,b:0.9536\n",
      "epoch : 4851 | loss: 0.001 | w: 2.0066,b:0.9539\n",
      "epoch : 4861 | loss: 0.001 | w: 2.0066,b:0.9542\n",
      "epoch : 4871 | loss: 0.001 | w: 2.0066,b:0.9544\n",
      "epoch : 4881 | loss: 0.001 | w: 2.0065,b:0.9547\n",
      "epoch : 4891 | loss: 0.001 | w: 2.0065,b:0.9549\n",
      "epoch : 4901 | loss: 0.001 | w: 2.0065,b:0.9552\n",
      "epoch : 4911 | loss: 0.001 | w: 2.0064,b:0.9554\n",
      "epoch : 4921 | loss: 0.001 | w: 2.0064,b:0.9557\n",
      "epoch : 4931 | loss: 0.001 | w: 2.0063,b:0.9559\n",
      "epoch : 4941 | loss: 0.001 | w: 2.0063,b:0.9562\n",
      "epoch : 4951 | loss: 0.001 | w: 2.0063,b:0.9564\n",
      "epoch : 4961 | loss: 0.001 | w: 2.0062,b:0.9567\n",
      "epoch : 4971 | loss: 0.001 | w: 2.0062,b:0.9569\n",
      "epoch : 4981 | loss: 0.001 | w: 2.0062,b:0.9571\n",
      "epoch : 4991 | loss: 0.001 | w: 2.0061,b:0.9574\n",
      "epoch : 5001 | loss: 0.001 | w: 2.0061,b:0.9576\n",
      "epoch : 5011 | loss: 0.001 | w: 2.0061,b:0.9578\n",
      "epoch : 5021 | loss: 0.001 | w: 2.0060,b:0.9581\n",
      "epoch : 5031 | loss: 0.000 | w: 2.0060,b:0.9583\n",
      "epoch : 5041 | loss: 0.000 | w: 2.0060,b:0.9586\n",
      "epoch : 5051 | loss: 0.000 | w: 2.0059,b:0.9588\n",
      "epoch : 5061 | loss: 0.000 | w: 2.0059,b:0.9590\n",
      "epoch : 5071 | loss: 0.000 | w: 2.0059,b:0.9592\n",
      "epoch : 5081 | loss: 0.000 | w: 2.0058,b:0.9595\n",
      "epoch : 5091 | loss: 0.000 | w: 2.0058,b:0.9597\n",
      "epoch : 5101 | loss: 0.000 | w: 2.0058,b:0.9599\n",
      "epoch : 5111 | loss: 0.000 | w: 2.0057,b:0.9601\n",
      "epoch : 5121 | loss: 0.000 | w: 2.0057,b:0.9604\n",
      "epoch : 5131 | loss: 0.000 | w: 2.0057,b:0.9606\n",
      "epoch : 5141 | loss: 0.000 | w: 2.0056,b:0.9608\n",
      "epoch : 5151 | loss: 0.000 | w: 2.0056,b:0.9610\n",
      "epoch : 5161 | loss: 0.000 | w: 2.0056,b:0.9612\n",
      "epoch : 5171 | loss: 0.000 | w: 2.0056,b:0.9615\n",
      "epoch : 5181 | loss: 0.000 | w: 2.0055,b:0.9617\n",
      "epoch : 5191 | loss: 0.000 | w: 2.0055,b:0.9619\n",
      "epoch : 5201 | loss: 0.000 | w: 2.0055,b:0.9621\n",
      "epoch : 5211 | loss: 0.000 | w: 2.0054,b:0.9623\n",
      "epoch : 5221 | loss: 0.000 | w: 2.0054,b:0.9625\n",
      "epoch : 5231 | loss: 0.000 | w: 2.0054,b:0.9627\n",
      "epoch : 5241 | loss: 0.000 | w: 2.0053,b:0.9629\n",
      "epoch : 5251 | loss: 0.000 | w: 2.0053,b:0.9631\n",
      "epoch : 5261 | loss: 0.000 | w: 2.0053,b:0.9634\n",
      "epoch : 5271 | loss: 0.000 | w: 2.0052,b:0.9636\n",
      "epoch : 5281 | loss: 0.000 | w: 2.0052,b:0.9638\n",
      "epoch : 5291 | loss: 0.000 | w: 2.0052,b:0.9640\n",
      "epoch : 5301 | loss: 0.000 | w: 2.0052,b:0.9642\n",
      "epoch : 5311 | loss: 0.000 | w: 2.0051,b:0.9644\n",
      "epoch : 5321 | loss: 0.000 | w: 2.0051,b:0.9646\n",
      "epoch : 5331 | loss: 0.000 | w: 2.0051,b:0.9648\n",
      "epoch : 5341 | loss: 0.000 | w: 2.0050,b:0.9650\n",
      "epoch : 5351 | loss: 0.000 | w: 2.0050,b:0.9652\n",
      "epoch : 5361 | loss: 0.000 | w: 2.0050,b:0.9654\n",
      "epoch : 5371 | loss: 0.000 | w: 2.0050,b:0.9655\n",
      "epoch : 5381 | loss: 0.000 | w: 2.0049,b:0.9657\n",
      "epoch : 5391 | loss: 0.000 | w: 2.0049,b:0.9659\n",
      "epoch : 5401 | loss: 0.000 | w: 2.0049,b:0.9661\n",
      "epoch : 5411 | loss: 0.000 | w: 2.0049,b:0.9663\n",
      "epoch : 5421 | loss: 0.000 | w: 2.0048,b:0.9665\n",
      "epoch : 5431 | loss: 0.000 | w: 2.0048,b:0.9667\n",
      "epoch : 5441 | loss: 0.000 | w: 2.0048,b:0.9669\n",
      "epoch : 5451 | loss: 0.000 | w: 2.0047,b:0.9671\n",
      "epoch : 5461 | loss: 0.000 | w: 2.0047,b:0.9672\n",
      "epoch : 5471 | loss: 0.000 | w: 2.0047,b:0.9674\n",
      "epoch : 5481 | loss: 0.000 | w: 2.0047,b:0.9676\n",
      "epoch : 5491 | loss: 0.000 | w: 2.0046,b:0.9678\n",
      "epoch : 5501 | loss: 0.000 | w: 2.0046,b:0.9680\n",
      "epoch : 5511 | loss: 0.000 | w: 2.0046,b:0.9681\n",
      "epoch : 5521 | loss: 0.000 | w: 2.0046,b:0.9683\n",
      "epoch : 5531 | loss: 0.000 | w: 2.0045,b:0.9685\n",
      "epoch : 5541 | loss: 0.000 | w: 2.0045,b:0.9687\n",
      "epoch : 5551 | loss: 0.000 | w: 2.0045,b:0.9688\n",
      "epoch : 5561 | loss: 0.000 | w: 2.0045,b:0.9690\n",
      "epoch : 5571 | loss: 0.000 | w: 2.0044,b:0.9692\n",
      "epoch : 5581 | loss: 0.000 | w: 2.0044,b:0.9694\n",
      "epoch : 5591 | loss: 0.000 | w: 2.0044,b:0.9695\n",
      "epoch : 5601 | loss: 0.000 | w: 2.0044,b:0.9697\n",
      "epoch : 5611 | loss: 0.000 | w: 2.0043,b:0.9699\n",
      "epoch : 5621 | loss: 0.000 | w: 2.0043,b:0.9700\n",
      "epoch : 5631 | loss: 0.000 | w: 2.0043,b:0.9702\n",
      "epoch : 5641 | loss: 0.000 | w: 2.0043,b:0.9704\n",
      "epoch : 5651 | loss: 0.000 | w: 2.0042,b:0.9705\n",
      "epoch : 5661 | loss: 0.000 | w: 2.0042,b:0.9707\n",
      "epoch : 5671 | loss: 0.000 | w: 2.0042,b:0.9709\n",
      "epoch : 5681 | loss: 0.000 | w: 2.0042,b:0.9710\n",
      "epoch : 5691 | loss: 0.000 | w: 2.0041,b:0.9712\n",
      "epoch : 5701 | loss: 0.000 | w: 2.0041,b:0.9714\n",
      "epoch : 5711 | loss: 0.000 | w: 2.0041,b:0.9715\n",
      "epoch : 5721 | loss: 0.000 | w: 2.0041,b:0.9717\n",
      "epoch : 5731 | loss: 0.000 | w: 2.0041,b:0.9718\n",
      "epoch : 5741 | loss: 0.000 | w: 2.0040,b:0.9720\n",
      "epoch : 5751 | loss: 0.000 | w: 2.0040,b:0.9721\n",
      "epoch : 5761 | loss: 0.000 | w: 2.0040,b:0.9723\n",
      "epoch : 5771 | loss: 0.000 | w: 2.0040,b:0.9725\n",
      "epoch : 5781 | loss: 0.000 | w: 2.0039,b:0.9726\n",
      "epoch : 5791 | loss: 0.000 | w: 2.0039,b:0.9728\n",
      "epoch : 5801 | loss: 0.000 | w: 2.0039,b:0.9729\n",
      "epoch : 5811 | loss: 0.000 | w: 2.0039,b:0.9731\n",
      "epoch : 5821 | loss: 0.000 | w: 2.0039,b:0.9732\n",
      "epoch : 5831 | loss: 0.000 | w: 2.0038,b:0.9734\n",
      "epoch : 5841 | loss: 0.000 | w: 2.0038,b:0.9735\n",
      "epoch : 5851 | loss: 0.000 | w: 2.0038,b:0.9737\n",
      "epoch : 5861 | loss: 0.000 | w: 2.0038,b:0.9738\n",
      "epoch : 5871 | loss: 0.000 | w: 2.0038,b:0.9740\n",
      "epoch : 5881 | loss: 0.000 | w: 2.0037,b:0.9741\n",
      "epoch : 5891 | loss: 0.000 | w: 2.0037,b:0.9742\n",
      "epoch : 5901 | loss: 0.000 | w: 2.0037,b:0.9744\n",
      "epoch : 5911 | loss: 0.000 | w: 2.0037,b:0.9745\n",
      "epoch : 5921 | loss: 0.000 | w: 2.0036,b:0.9747\n",
      "epoch : 5931 | loss: 0.000 | w: 2.0036,b:0.9748\n",
      "epoch : 5941 | loss: 0.000 | w: 2.0036,b:0.9750\n",
      "epoch : 5951 | loss: 0.000 | w: 2.0036,b:0.9751\n",
      "epoch : 5961 | loss: 0.000 | w: 2.0036,b:0.9752\n",
      "epoch : 5971 | loss: 0.000 | w: 2.0035,b:0.9754\n",
      "epoch : 5981 | loss: 0.000 | w: 2.0035,b:0.9755\n",
      "epoch : 5991 | loss: 0.000 | w: 2.0035,b:0.9757\n",
      "epoch : 6001 | loss: 0.000 | w: 2.0035,b:0.9758\n",
      "epoch : 6011 | loss: 0.000 | w: 2.0035,b:0.9759\n",
      "epoch : 6021 | loss: 0.000 | w: 2.0034,b:0.9761\n",
      "epoch : 6031 | loss: 0.000 | w: 2.0034,b:0.9762\n",
      "epoch : 6041 | loss: 0.000 | w: 2.0034,b:0.9763\n",
      "epoch : 6051 | loss: 0.000 | w: 2.0034,b:0.9765\n",
      "epoch : 6061 | loss: 0.000 | w: 2.0034,b:0.9766\n",
      "epoch : 6071 | loss: 0.000 | w: 2.0034,b:0.9767\n",
      "epoch : 6081 | loss: 0.000 | w: 2.0033,b:0.9768\n",
      "epoch : 6091 | loss: 0.000 | w: 2.0033,b:0.9770\n",
      "epoch : 6101 | loss: 0.000 | w: 2.0033,b:0.9771\n",
      "epoch : 6111 | loss: 0.000 | w: 2.0033,b:0.9772\n",
      "epoch : 6121 | loss: 0.000 | w: 2.0033,b:0.9774\n",
      "epoch : 6131 | loss: 0.000 | w: 2.0032,b:0.9775\n",
      "epoch : 6141 | loss: 0.000 | w: 2.0032,b:0.9776\n",
      "epoch : 6151 | loss: 0.000 | w: 2.0032,b:0.9777\n",
      "epoch : 6161 | loss: 0.000 | w: 2.0032,b:0.9779\n",
      "epoch : 6171 | loss: 0.000 | w: 2.0032,b:0.9780\n",
      "epoch : 6181 | loss: 0.000 | w: 2.0032,b:0.9781\n",
      "epoch : 6191 | loss: 0.000 | w: 2.0031,b:0.9782\n",
      "epoch : 6201 | loss: 0.000 | w: 2.0031,b:0.9784\n",
      "epoch : 6211 | loss: 0.000 | w: 2.0031,b:0.9785\n",
      "epoch : 6221 | loss: 0.000 | w: 2.0031,b:0.9786\n",
      "epoch : 6231 | loss: 0.000 | w: 2.0031,b:0.9787\n",
      "epoch : 6241 | loss: 0.000 | w: 2.0030,b:0.9788\n",
      "epoch : 6251 | loss: 0.000 | w: 2.0030,b:0.9789\n",
      "epoch : 6261 | loss: 0.000 | w: 2.0030,b:0.9791\n",
      "epoch : 6271 | loss: 0.000 | w: 2.0030,b:0.9792\n",
      "epoch : 6281 | loss: 0.000 | w: 2.0030,b:0.9793\n",
      "epoch : 6291 | loss: 0.000 | w: 2.0030,b:0.9794\n",
      "epoch : 6301 | loss: 0.000 | w: 2.0029,b:0.9795\n",
      "epoch : 6311 | loss: 0.000 | w: 2.0029,b:0.9796\n",
      "epoch : 6321 | loss: 0.000 | w: 2.0029,b:0.9798\n",
      "epoch : 6331 | loss: 0.000 | w: 2.0029,b:0.9799\n",
      "epoch : 6341 | loss: 0.000 | w: 2.0029,b:0.9800\n",
      "epoch : 6351 | loss: 0.000 | w: 2.0029,b:0.9801\n",
      "epoch : 6361 | loss: 0.000 | w: 2.0029,b:0.9802\n",
      "epoch : 6371 | loss: 0.000 | w: 2.0028,b:0.9803\n",
      "epoch : 6381 | loss: 0.000 | w: 2.0028,b:0.9804\n",
      "epoch : 6391 | loss: 0.000 | w: 2.0028,b:0.9805\n",
      "epoch : 6401 | loss: 0.000 | w: 2.0028,b:0.9806\n",
      "epoch : 6411 | loss: 0.000 | w: 2.0028,b:0.9808\n",
      "epoch : 6421 | loss: 0.000 | w: 2.0028,b:0.9809\n",
      "epoch : 6431 | loss: 0.000 | w: 2.0027,b:0.9810\n",
      "epoch : 6441 | loss: 0.000 | w: 2.0027,b:0.9811\n",
      "epoch : 6451 | loss: 0.000 | w: 2.0027,b:0.9812\n",
      "epoch : 6461 | loss: 0.000 | w: 2.0027,b:0.9813\n",
      "epoch : 6471 | loss: 0.000 | w: 2.0027,b:0.9814\n",
      "epoch : 6481 | loss: 0.000 | w: 2.0027,b:0.9815\n",
      "epoch : 6491 | loss: 0.000 | w: 2.0027,b:0.9816\n",
      "epoch : 6501 | loss: 0.000 | w: 2.0026,b:0.9817\n",
      "epoch : 6511 | loss: 0.000 | w: 2.0026,b:0.9818\n",
      "epoch : 6521 | loss: 0.000 | w: 2.0026,b:0.9819\n",
      "epoch : 6531 | loss: 0.000 | w: 2.0026,b:0.9820\n",
      "epoch : 6541 | loss: 0.000 | w: 2.0026,b:0.9821\n",
      "epoch : 6551 | loss: 0.000 | w: 2.0026,b:0.9822\n",
      "epoch : 6561 | loss: 0.000 | w: 2.0026,b:0.9823\n",
      "epoch : 6571 | loss: 0.000 | w: 2.0025,b:0.9824\n",
      "epoch : 6581 | loss: 0.000 | w: 2.0025,b:0.9825\n",
      "epoch : 6591 | loss: 0.000 | w: 2.0025,b:0.9826\n",
      "epoch : 6601 | loss: 0.000 | w: 2.0025,b:0.9827\n",
      "epoch : 6611 | loss: 0.000 | w: 2.0025,b:0.9828\n",
      "epoch : 6621 | loss: 0.000 | w: 2.0025,b:0.9829\n",
      "epoch : 6631 | loss: 0.000 | w: 2.0024,b:0.9830\n",
      "epoch : 6641 | loss: 0.000 | w: 2.0024,b:0.9831\n",
      "epoch : 6651 | loss: 0.000 | w: 2.0024,b:0.9832\n",
      "epoch : 6661 | loss: 0.000 | w: 2.0024,b:0.9833\n",
      "epoch : 6671 | loss: 0.000 | w: 2.0024,b:0.9834\n",
      "epoch : 6681 | loss: 0.000 | w: 2.0024,b:0.9835\n",
      "epoch : 6691 | loss: 0.000 | w: 2.0024,b:0.9835\n",
      "epoch : 6701 | loss: 0.000 | w: 2.0024,b:0.9836\n",
      "epoch : 6711 | loss: 0.000 | w: 2.0023,b:0.9837\n",
      "epoch : 6721 | loss: 0.000 | w: 2.0023,b:0.9838\n",
      "epoch : 6731 | loss: 0.000 | w: 2.0023,b:0.9839\n",
      "epoch : 6741 | loss: 0.000 | w: 2.0023,b:0.9840\n",
      "epoch : 6751 | loss: 0.000 | w: 2.0023,b:0.9841\n",
      "epoch : 6761 | loss: 0.000 | w: 2.0023,b:0.9842\n",
      "epoch : 6771 | loss: 0.000 | w: 2.0023,b:0.9843\n",
      "epoch : 6781 | loss: 0.000 | w: 2.0023,b:0.9844\n",
      "epoch : 6791 | loss: 0.000 | w: 2.0022,b:0.9844\n",
      "epoch : 6801 | loss: 0.000 | w: 2.0022,b:0.9845\n",
      "epoch : 6811 | loss: 0.000 | w: 2.0022,b:0.9846\n",
      "epoch : 6821 | loss: 0.000 | w: 2.0022,b:0.9847\n",
      "epoch : 6831 | loss: 0.000 | w: 2.0022,b:0.9848\n",
      "epoch : 6841 | loss: 0.000 | w: 2.0022,b:0.9849\n",
      "epoch : 6851 | loss: 0.000 | w: 2.0022,b:0.9850\n",
      "epoch : 6861 | loss: 0.000 | w: 2.0022,b:0.9850\n",
      "epoch : 6871 | loss: 0.000 | w: 2.0021,b:0.9851\n",
      "epoch : 6881 | loss: 0.000 | w: 2.0021,b:0.9852\n",
      "epoch : 6891 | loss: 0.000 | w: 2.0021,b:0.9853\n",
      "epoch : 6901 | loss: 0.000 | w: 2.0021,b:0.9854\n",
      "epoch : 6911 | loss: 0.000 | w: 2.0021,b:0.9855\n",
      "epoch : 6921 | loss: 0.000 | w: 2.0021,b:0.9855\n",
      "epoch : 6931 | loss: 0.000 | w: 2.0021,b:0.9856\n",
      "epoch : 6941 | loss: 0.000 | w: 2.0021,b:0.9857\n",
      "epoch : 6951 | loss: 0.000 | w: 2.0020,b:0.9858\n",
      "epoch : 6961 | loss: 0.000 | w: 2.0020,b:0.9859\n",
      "epoch : 6971 | loss: 0.000 | w: 2.0020,b:0.9859\n",
      "epoch : 6981 | loss: 0.000 | w: 2.0020,b:0.9860\n",
      "epoch : 6991 | loss: 0.000 | w: 2.0020,b:0.9861\n",
      "epoch : 7001 | loss: 0.000 | w: 2.0020,b:0.9862\n",
      "epoch : 7011 | loss: 0.000 | w: 2.0020,b:0.9862\n",
      "epoch : 7021 | loss: 0.000 | w: 2.0020,b:0.9863\n",
      "epoch : 7031 | loss: 0.000 | w: 2.0020,b:0.9864\n",
      "epoch : 7041 | loss: 0.000 | w: 2.0019,b:0.9865\n",
      "epoch : 7051 | loss: 0.000 | w: 2.0019,b:0.9865\n",
      "epoch : 7061 | loss: 0.000 | w: 2.0019,b:0.9866\n",
      "epoch : 7071 | loss: 0.000 | w: 2.0019,b:0.9867\n",
      "epoch : 7081 | loss: 0.000 | w: 2.0019,b:0.9868\n",
      "epoch : 7091 | loss: 0.000 | w: 2.0019,b:0.9868\n",
      "epoch : 7101 | loss: 0.000 | w: 2.0019,b:0.9869\n",
      "epoch : 7111 | loss: 0.000 | w: 2.0019,b:0.9870\n",
      "epoch : 7121 | loss: 0.000 | w: 2.0019,b:0.9871\n",
      "epoch : 7131 | loss: 0.000 | w: 2.0019,b:0.9871\n",
      "epoch : 7141 | loss: 0.000 | w: 2.0018,b:0.9872\n",
      "epoch : 7151 | loss: 0.000 | w: 2.0018,b:0.9873\n",
      "epoch : 7161 | loss: 0.000 | w: 2.0018,b:0.9874\n",
      "epoch : 7171 | loss: 0.000 | w: 2.0018,b:0.9874\n",
      "epoch : 7181 | loss: 0.000 | w: 2.0018,b:0.9875\n",
      "epoch : 7191 | loss: 0.000 | w: 2.0018,b:0.9876\n",
      "epoch : 7201 | loss: 0.000 | w: 2.0018,b:0.9876\n",
      "epoch : 7211 | loss: 0.000 | w: 2.0018,b:0.9877\n",
      "epoch : 7221 | loss: 0.000 | w: 2.0018,b:0.9878\n",
      "epoch : 7231 | loss: 0.000 | w: 2.0018,b:0.9878\n",
      "epoch : 7241 | loss: 0.000 | w: 2.0017,b:0.9879\n",
      "epoch : 7251 | loss: 0.000 | w: 2.0017,b:0.9880\n",
      "epoch : 7261 | loss: 0.000 | w: 2.0017,b:0.9880\n",
      "epoch : 7271 | loss: 0.000 | w: 2.0017,b:0.9881\n",
      "epoch : 7281 | loss: 0.000 | w: 2.0017,b:0.9882\n",
      "epoch : 7291 | loss: 0.000 | w: 2.0017,b:0.9882\n",
      "epoch : 7301 | loss: 0.000 | w: 2.0017,b:0.9883\n",
      "epoch : 7311 | loss: 0.000 | w: 2.0017,b:0.9884\n",
      "epoch : 7321 | loss: 0.000 | w: 2.0017,b:0.9884\n",
      "epoch : 7331 | loss: 0.000 | w: 2.0017,b:0.9885\n",
      "epoch : 7341 | loss: 0.000 | w: 2.0016,b:0.9886\n",
      "epoch : 7351 | loss: 0.000 | w: 2.0016,b:0.9886\n",
      "epoch : 7361 | loss: 0.000 | w: 2.0016,b:0.9887\n",
      "epoch : 7371 | loss: 0.000 | w: 2.0016,b:0.9888\n",
      "epoch : 7381 | loss: 0.000 | w: 2.0016,b:0.9888\n",
      "epoch : 7391 | loss: 0.000 | w: 2.0016,b:0.9889\n",
      "epoch : 7401 | loss: 0.000 | w: 2.0016,b:0.9889\n",
      "epoch : 7411 | loss: 0.000 | w: 2.0016,b:0.9890\n",
      "epoch : 7421 | loss: 0.000 | w: 2.0016,b:0.9891\n",
      "epoch : 7431 | loss: 0.000 | w: 2.0016,b:0.9891\n",
      "epoch : 7441 | loss: 0.000 | w: 2.0016,b:0.9892\n",
      "epoch : 7451 | loss: 0.000 | w: 2.0015,b:0.9892\n",
      "epoch : 7461 | loss: 0.000 | w: 2.0015,b:0.9893\n",
      "epoch : 7471 | loss: 0.000 | w: 2.0015,b:0.9894\n",
      "epoch : 7481 | loss: 0.000 | w: 2.0015,b:0.9894\n",
      "epoch : 7491 | loss: 0.000 | w: 2.0015,b:0.9895\n",
      "epoch : 7501 | loss: 0.000 | w: 2.0015,b:0.9895\n",
      "epoch : 7511 | loss: 0.000 | w: 2.0015,b:0.9896\n",
      "epoch : 7521 | loss: 0.000 | w: 2.0015,b:0.9897\n",
      "epoch : 7531 | loss: 0.000 | w: 2.0015,b:0.9897\n",
      "epoch : 7541 | loss: 0.000 | w: 2.0015,b:0.9898\n",
      "epoch : 7551 | loss: 0.000 | w: 2.0015,b:0.9898\n",
      "epoch : 7561 | loss: 0.000 | w: 2.0015,b:0.9899\n",
      "epoch : 7571 | loss: 0.000 | w: 2.0014,b:0.9899\n",
      "epoch : 7581 | loss: 0.000 | w: 2.0014,b:0.9900\n",
      "epoch : 7591 | loss: 0.000 | w: 2.0014,b:0.9901\n",
      "epoch : 7601 | loss: 0.000 | w: 2.0014,b:0.9901\n",
      "epoch : 7611 | loss: 0.000 | w: 2.0014,b:0.9902\n",
      "epoch : 7621 | loss: 0.000 | w: 2.0014,b:0.9902\n",
      "epoch : 7631 | loss: 0.000 | w: 2.0014,b:0.9903\n",
      "epoch : 7641 | loss: 0.000 | w: 2.0014,b:0.9903\n",
      "epoch : 7651 | loss: 0.000 | w: 2.0014,b:0.9904\n",
      "epoch : 7661 | loss: 0.000 | w: 2.0014,b:0.9904\n",
      "epoch : 7671 | loss: 0.000 | w: 2.0014,b:0.9905\n",
      "epoch : 7681 | loss: 0.000 | w: 2.0014,b:0.9905\n",
      "epoch : 7691 | loss: 0.000 | w: 2.0014,b:0.9906\n",
      "epoch : 7701 | loss: 0.000 | w: 2.0013,b:0.9907\n",
      "epoch : 7711 | loss: 0.000 | w: 2.0013,b:0.9907\n",
      "epoch : 7721 | loss: 0.000 | w: 2.0013,b:0.9908\n",
      "epoch : 7731 | loss: 0.000 | w: 2.0013,b:0.9908\n",
      "epoch : 7741 | loss: 0.000 | w: 2.0013,b:0.9909\n",
      "epoch : 7751 | loss: 0.000 | w: 2.0013,b:0.9909\n",
      "epoch : 7761 | loss: 0.000 | w: 2.0013,b:0.9910\n",
      "epoch : 7771 | loss: 0.000 | w: 2.0013,b:0.9910\n",
      "epoch : 7781 | loss: 0.000 | w: 2.0013,b:0.9911\n",
      "epoch : 7791 | loss: 0.000 | w: 2.0013,b:0.9911\n",
      "epoch : 7801 | loss: 0.000 | w: 2.0013,b:0.9912\n",
      "epoch : 7811 | loss: 0.000 | w: 2.0013,b:0.9912\n",
      "epoch : 7821 | loss: 0.000 | w: 2.0013,b:0.9913\n",
      "epoch : 7831 | loss: 0.000 | w: 2.0013,b:0.9913\n",
      "epoch : 7841 | loss: 0.000 | w: 2.0012,b:0.9914\n",
      "epoch : 7851 | loss: 0.000 | w: 2.0012,b:0.9914\n",
      "epoch : 7861 | loss: 0.000 | w: 2.0012,b:0.9914\n",
      "epoch : 7871 | loss: 0.000 | w: 2.0012,b:0.9915\n",
      "epoch : 7881 | loss: 0.000 | w: 2.0012,b:0.9915\n",
      "epoch : 7891 | loss: 0.000 | w: 2.0012,b:0.9916\n",
      "epoch : 7901 | loss: 0.000 | w: 2.0012,b:0.9916\n",
      "epoch : 7911 | loss: 0.000 | w: 2.0012,b:0.9917\n",
      "epoch : 7921 | loss: 0.000 | w: 2.0012,b:0.9917\n",
      "epoch : 7931 | loss: 0.000 | w: 2.0012,b:0.9918\n",
      "epoch : 7941 | loss: 0.000 | w: 2.0012,b:0.9918\n",
      "epoch : 7951 | loss: 0.000 | w: 2.0012,b:0.9919\n",
      "epoch : 7961 | loss: 0.000 | w: 2.0012,b:0.9919\n",
      "epoch : 7971 | loss: 0.000 | w: 2.0012,b:0.9920\n",
      "epoch : 7981 | loss: 0.000 | w: 2.0012,b:0.9920\n",
      "epoch : 7991 | loss: 0.000 | w: 2.0011,b:0.9921\n",
      "epoch : 8001 | loss: 0.000 | w: 2.0011,b:0.9921\n",
      "epoch : 8011 | loss: 0.000 | w: 2.0011,b:0.9921\n",
      "epoch : 8021 | loss: 0.000 | w: 2.0011,b:0.9922\n",
      "epoch : 8031 | loss: 0.000 | w: 2.0011,b:0.9922\n",
      "epoch : 8041 | loss: 0.000 | w: 2.0011,b:0.9923\n",
      "epoch : 8051 | loss: 0.000 | w: 2.0011,b:0.9923\n",
      "epoch : 8061 | loss: 0.000 | w: 2.0011,b:0.9924\n",
      "epoch : 8071 | loss: 0.000 | w: 2.0011,b:0.9924\n",
      "epoch : 8081 | loss: 0.000 | w: 2.0011,b:0.9924\n",
      "epoch : 8091 | loss: 0.000 | w: 2.0011,b:0.9925\n",
      "epoch : 8101 | loss: 0.000 | w: 2.0011,b:0.9925\n",
      "epoch : 8111 | loss: 0.000 | w: 2.0011,b:0.9926\n",
      "epoch : 8121 | loss: 0.000 | w: 2.0011,b:0.9926\n",
      "epoch : 8131 | loss: 0.000 | w: 2.0011,b:0.9927\n",
      "epoch : 8141 | loss: 0.000 | w: 2.0011,b:0.9927\n",
      "epoch : 8151 | loss: 0.000 | w: 2.0010,b:0.9927\n",
      "epoch : 8161 | loss: 0.000 | w: 2.0010,b:0.9928\n",
      "epoch : 8171 | loss: 0.000 | w: 2.0010,b:0.9928\n",
      "epoch : 8181 | loss: 0.000 | w: 2.0010,b:0.9929\n",
      "epoch : 8191 | loss: 0.000 | w: 2.0010,b:0.9929\n",
      "epoch : 8201 | loss: 0.000 | w: 2.0010,b:0.9929\n",
      "epoch : 8211 | loss: 0.000 | w: 2.0010,b:0.9930\n",
      "epoch : 8221 | loss: 0.000 | w: 2.0010,b:0.9930\n",
      "epoch : 8231 | loss: 0.000 | w: 2.0010,b:0.9931\n",
      "epoch : 8241 | loss: 0.000 | w: 2.0010,b:0.9931\n",
      "epoch : 8251 | loss: 0.000 | w: 2.0010,b:0.9931\n",
      "epoch : 8261 | loss: 0.000 | w: 2.0010,b:0.9932\n",
      "epoch : 8271 | loss: 0.000 | w: 2.0010,b:0.9932\n",
      "epoch : 8281 | loss: 0.000 | w: 2.0010,b:0.9932\n",
      "epoch : 8291 | loss: 0.000 | w: 2.0010,b:0.9933\n",
      "epoch : 8301 | loss: 0.000 | w: 2.0010,b:0.9933\n",
      "epoch : 8311 | loss: 0.000 | w: 2.0010,b:0.9934\n",
      "epoch : 8321 | loss: 0.000 | w: 2.0010,b:0.9934\n",
      "epoch : 8331 | loss: 0.000 | w: 2.0009,b:0.9934\n",
      "epoch : 8341 | loss: 0.000 | w: 2.0009,b:0.9935\n",
      "epoch : 8351 | loss: 0.000 | w: 2.0009,b:0.9935\n",
      "epoch : 8361 | loss: 0.000 | w: 2.0009,b:0.9935\n",
      "epoch : 8371 | loss: 0.000 | w: 2.0009,b:0.9936\n",
      "epoch : 8381 | loss: 0.000 | w: 2.0009,b:0.9936\n",
      "epoch : 8391 | loss: 0.000 | w: 2.0009,b:0.9936\n",
      "epoch : 8401 | loss: 0.000 | w: 2.0009,b:0.9937\n",
      "epoch : 8411 | loss: 0.000 | w: 2.0009,b:0.9937\n",
      "epoch : 8421 | loss: 0.000 | w: 2.0009,b:0.9938\n",
      "epoch : 8431 | loss: 0.000 | w: 2.0009,b:0.9938\n",
      "epoch : 8441 | loss: 0.000 | w: 2.0009,b:0.9938\n",
      "epoch : 8451 | loss: 0.000 | w: 2.0009,b:0.9939\n",
      "epoch : 8461 | loss: 0.000 | w: 2.0009,b:0.9939\n",
      "epoch : 8471 | loss: 0.000 | w: 2.0009,b:0.9939\n",
      "epoch : 8481 | loss: 0.000 | w: 2.0009,b:0.9940\n",
      "epoch : 8491 | loss: 0.000 | w: 2.0009,b:0.9940\n",
      "epoch : 8501 | loss: 0.000 | w: 2.0009,b:0.9940\n",
      "epoch : 8511 | loss: 0.000 | w: 2.0009,b:0.9941\n",
      "epoch : 8521 | loss: 0.000 | w: 2.0009,b:0.9941\n",
      "epoch : 8531 | loss: 0.000 | w: 2.0008,b:0.9941\n",
      "epoch : 8541 | loss: 0.000 | w: 2.0008,b:0.9942\n",
      "epoch : 8551 | loss: 0.000 | w: 2.0008,b:0.9942\n",
      "epoch : 8561 | loss: 0.000 | w: 2.0008,b:0.9942\n",
      "epoch : 8571 | loss: 0.000 | w: 2.0008,b:0.9943\n",
      "epoch : 8581 | loss: 0.000 | w: 2.0008,b:0.9943\n",
      "epoch : 8591 | loss: 0.000 | w: 2.0008,b:0.9943\n",
      "epoch : 8601 | loss: 0.000 | w: 2.0008,b:0.9943\n",
      "epoch : 8611 | loss: 0.000 | w: 2.0008,b:0.9944\n",
      "epoch : 8621 | loss: 0.000 | w: 2.0008,b:0.9944\n",
      "epoch : 8631 | loss: 0.000 | w: 2.0008,b:0.9944\n",
      "epoch : 8641 | loss: 0.000 | w: 2.0008,b:0.9945\n",
      "epoch : 8651 | loss: 0.000 | w: 2.0008,b:0.9945\n",
      "epoch : 8661 | loss: 0.000 | w: 2.0008,b:0.9945\n",
      "epoch : 8671 | loss: 0.000 | w: 2.0008,b:0.9946\n",
      "epoch : 8681 | loss: 0.000 | w: 2.0008,b:0.9946\n",
      "epoch : 8691 | loss: 0.000 | w: 2.0008,b:0.9946\n",
      "epoch : 8701 | loss: 0.000 | w: 2.0008,b:0.9947\n",
      "epoch : 8711 | loss: 0.000 | w: 2.0008,b:0.9947\n",
      "epoch : 8721 | loss: 0.000 | w: 2.0008,b:0.9947\n",
      "epoch : 8731 | loss: 0.000 | w: 2.0008,b:0.9947\n",
      "epoch : 8741 | loss: 0.000 | w: 2.0008,b:0.9948\n",
      "epoch : 8751 | loss: 0.000 | w: 2.0007,b:0.9948\n",
      "epoch : 8761 | loss: 0.000 | w: 2.0007,b:0.9948\n",
      "epoch : 8771 | loss: 0.000 | w: 2.0007,b:0.9949\n",
      "epoch : 8781 | loss: 0.000 | w: 2.0007,b:0.9949\n",
      "epoch : 8791 | loss: 0.000 | w: 2.0007,b:0.9949\n",
      "epoch : 8801 | loss: 0.000 | w: 2.0007,b:0.9949\n",
      "epoch : 8811 | loss: 0.000 | w: 2.0007,b:0.9950\n",
      "epoch : 8821 | loss: 0.000 | w: 2.0007,b:0.9950\n",
      "epoch : 8831 | loss: 0.000 | w: 2.0007,b:0.9950\n",
      "epoch : 8841 | loss: 0.000 | w: 2.0007,b:0.9951\n",
      "epoch : 8851 | loss: 0.000 | w: 2.0007,b:0.9951\n",
      "epoch : 8861 | loss: 0.000 | w: 2.0007,b:0.9951\n",
      "epoch : 8871 | loss: 0.000 | w: 2.0007,b:0.9951\n",
      "epoch : 8881 | loss: 0.000 | w: 2.0007,b:0.9952\n",
      "epoch : 8891 | loss: 0.000 | w: 2.0007,b:0.9952\n",
      "epoch : 8901 | loss: 0.000 | w: 2.0007,b:0.9952\n",
      "epoch : 8911 | loss: 0.000 | w: 2.0007,b:0.9953\n",
      "epoch : 8921 | loss: 0.000 | w: 2.0007,b:0.9953\n",
      "epoch : 8931 | loss: 0.000 | w: 2.0007,b:0.9953\n",
      "epoch : 8941 | loss: 0.000 | w: 2.0007,b:0.9953\n",
      "epoch : 8951 | loss: 0.000 | w: 2.0007,b:0.9954\n",
      "epoch : 8961 | loss: 0.000 | w: 2.0007,b:0.9954\n",
      "epoch : 8971 | loss: 0.000 | w: 2.0007,b:0.9954\n",
      "epoch : 8981 | loss: 0.000 | w: 2.0007,b:0.9954\n",
      "epoch : 8991 | loss: 0.000 | w: 2.0007,b:0.9955\n",
      "epoch : 9001 | loss: 0.000 | w: 2.0007,b:0.9955\n",
      "epoch : 9011 | loss: 0.000 | w: 2.0006,b:0.9955\n",
      "epoch : 9021 | loss: 0.000 | w: 2.0006,b:0.9955\n",
      "epoch : 9031 | loss: 0.000 | w: 2.0006,b:0.9956\n",
      "epoch : 9041 | loss: 0.000 | w: 2.0006,b:0.9956\n",
      "epoch : 9051 | loss: 0.000 | w: 2.0006,b:0.9956\n",
      "epoch : 9061 | loss: 0.000 | w: 2.0006,b:0.9956\n",
      "epoch : 9071 | loss: 0.000 | w: 2.0006,b:0.9957\n",
      "epoch : 9081 | loss: 0.000 | w: 2.0006,b:0.9957\n",
      "epoch : 9091 | loss: 0.000 | w: 2.0006,b:0.9957\n",
      "epoch : 9101 | loss: 0.000 | w: 2.0006,b:0.9957\n",
      "epoch : 9111 | loss: 0.000 | w: 2.0006,b:0.9958\n",
      "epoch : 9121 | loss: 0.000 | w: 2.0006,b:0.9958\n",
      "epoch : 9131 | loss: 0.000 | w: 2.0006,b:0.9958\n",
      "epoch : 9141 | loss: 0.000 | w: 2.0006,b:0.9958\n",
      "epoch : 9151 | loss: 0.000 | w: 2.0006,b:0.9958\n",
      "epoch : 9161 | loss: 0.000 | w: 2.0006,b:0.9959\n",
      "epoch : 9171 | loss: 0.000 | w: 2.0006,b:0.9959\n",
      "epoch : 9181 | loss: 0.000 | w: 2.0006,b:0.9959\n",
      "epoch : 9191 | loss: 0.000 | w: 2.0006,b:0.9959\n",
      "epoch : 9201 | loss: 0.000 | w: 2.0006,b:0.9960\n",
      "epoch : 9211 | loss: 0.000 | w: 2.0006,b:0.9960\n",
      "epoch : 9221 | loss: 0.000 | w: 2.0006,b:0.9960\n",
      "epoch : 9231 | loss: 0.000 | w: 2.0006,b:0.9960\n",
      "epoch : 9241 | loss: 0.000 | w: 2.0006,b:0.9961\n",
      "epoch : 9251 | loss: 0.000 | w: 2.0006,b:0.9961\n",
      "epoch : 9261 | loss: 0.000 | w: 2.0006,b:0.9961\n",
      "epoch : 9271 | loss: 0.000 | w: 2.0006,b:0.9961\n",
      "epoch : 9281 | loss: 0.000 | w: 2.0006,b:0.9961\n",
      "epoch : 9291 | loss: 0.000 | w: 2.0006,b:0.9962\n",
      "epoch : 9301 | loss: 0.000 | w: 2.0006,b:0.9962\n",
      "epoch : 9311 | loss: 0.000 | w: 2.0005,b:0.9962\n",
      "epoch : 9321 | loss: 0.000 | w: 2.0005,b:0.9962\n",
      "epoch : 9331 | loss: 0.000 | w: 2.0005,b:0.9962\n",
      "epoch : 9341 | loss: 0.000 | w: 2.0005,b:0.9963\n",
      "epoch : 9351 | loss: 0.000 | w: 2.0005,b:0.9963\n",
      "epoch : 9361 | loss: 0.000 | w: 2.0005,b:0.9963\n",
      "epoch : 9371 | loss: 0.000 | w: 2.0005,b:0.9963\n",
      "epoch : 9381 | loss: 0.000 | w: 2.0005,b:0.9963\n",
      "epoch : 9391 | loss: 0.000 | w: 2.0005,b:0.9964\n",
      "epoch : 9401 | loss: 0.000 | w: 2.0005,b:0.9964\n",
      "epoch : 9411 | loss: 0.000 | w: 2.0005,b:0.9964\n",
      "epoch : 9421 | loss: 0.000 | w: 2.0005,b:0.9964\n",
      "epoch : 9431 | loss: 0.000 | w: 2.0005,b:0.9964\n",
      "epoch : 9441 | loss: 0.000 | w: 2.0005,b:0.9965\n",
      "epoch : 9451 | loss: 0.000 | w: 2.0005,b:0.9965\n",
      "epoch : 9461 | loss: 0.000 | w: 2.0005,b:0.9965\n",
      "epoch : 9471 | loss: 0.000 | w: 2.0005,b:0.9965\n",
      "epoch : 9481 | loss: 0.000 | w: 2.0005,b:0.9965\n",
      "epoch : 9491 | loss: 0.000 | w: 2.0005,b:0.9966\n",
      "epoch : 9501 | loss: 0.000 | w: 2.0005,b:0.9966\n",
      "epoch : 9511 | loss: 0.000 | w: 2.0005,b:0.9966\n",
      "epoch : 9521 | loss: 0.000 | w: 2.0005,b:0.9966\n",
      "epoch : 9531 | loss: 0.000 | w: 2.0005,b:0.9966\n",
      "epoch : 9541 | loss: 0.000 | w: 2.0005,b:0.9967\n",
      "epoch : 9551 | loss: 0.000 | w: 2.0005,b:0.9967\n",
      "epoch : 9561 | loss: 0.000 | w: 2.0005,b:0.9967\n",
      "epoch : 9571 | loss: 0.000 | w: 2.0005,b:0.9967\n",
      "epoch : 9581 | loss: 0.000 | w: 2.0005,b:0.9967\n",
      "epoch : 9591 | loss: 0.000 | w: 2.0005,b:0.9968\n",
      "epoch : 9601 | loss: 0.000 | w: 2.0005,b:0.9968\n",
      "epoch : 9611 | loss: 0.000 | w: 2.0005,b:0.9968\n",
      "epoch : 9621 | loss: 0.000 | w: 2.0005,b:0.9968\n",
      "epoch : 9631 | loss: 0.000 | w: 2.0005,b:0.9968\n",
      "epoch : 9641 | loss: 0.000 | w: 2.0005,b:0.9968\n",
      "epoch : 9651 | loss: 0.000 | w: 2.0005,b:0.9969\n",
      "epoch : 9661 | loss: 0.000 | w: 2.0005,b:0.9969\n",
      "epoch : 9671 | loss: 0.000 | w: 2.0004,b:0.9969\n",
      "epoch : 9681 | loss: 0.000 | w: 2.0004,b:0.9969\n",
      "epoch : 9691 | loss: 0.000 | w: 2.0004,b:0.9969\n",
      "epoch : 9701 | loss: 0.000 | w: 2.0004,b:0.9969\n",
      "epoch : 9711 | loss: 0.000 | w: 2.0004,b:0.9970\n",
      "epoch : 9721 | loss: 0.000 | w: 2.0004,b:0.9970\n",
      "epoch : 9731 | loss: 0.000 | w: 2.0004,b:0.9970\n",
      "epoch : 9741 | loss: 0.000 | w: 2.0004,b:0.9970\n",
      "epoch : 9751 | loss: 0.000 | w: 2.0004,b:0.9970\n",
      "epoch : 9761 | loss: 0.000 | w: 2.0004,b:0.9970\n",
      "epoch : 9771 | loss: 0.000 | w: 2.0004,b:0.9971\n",
      "epoch : 9781 | loss: 0.000 | w: 2.0004,b:0.9971\n",
      "epoch : 9791 | loss: 0.000 | w: 2.0004,b:0.9971\n",
      "epoch : 9801 | loss: 0.000 | w: 2.0004,b:0.9971\n",
      "epoch : 9811 | loss: 0.000 | w: 2.0004,b:0.9971\n",
      "epoch : 9821 | loss: 0.000 | w: 2.0004,b:0.9971\n",
      "epoch : 9831 | loss: 0.000 | w: 2.0004,b:0.9972\n",
      "epoch : 9841 | loss: 0.000 | w: 2.0004,b:0.9972\n",
      "epoch : 9851 | loss: 0.000 | w: 2.0004,b:0.9972\n",
      "epoch : 9861 | loss: 0.000 | w: 2.0004,b:0.9972\n",
      "epoch : 9871 | loss: 0.000 | w: 2.0004,b:0.9972\n",
      "epoch : 9881 | loss: 0.000 | w: 2.0004,b:0.9972\n",
      "epoch : 9891 | loss: 0.000 | w: 2.0004,b:0.9973\n",
      "epoch : 9901 | loss: 0.000 | w: 2.0004,b:0.9973\n",
      "epoch : 9911 | loss: 0.000 | w: 2.0004,b:0.9973\n",
      "epoch : 9921 | loss: 0.000 | w: 2.0004,b:0.9973\n",
      "epoch : 9931 | loss: 0.000 | w: 2.0004,b:0.9973\n",
      "epoch : 9941 | loss: 0.000 | w: 2.0004,b:0.9973\n",
      "epoch : 9951 | loss: 0.000 | w: 2.0004,b:0.9973\n",
      "epoch : 9961 | loss: 0.000 | w: 2.0004,b:0.9974\n",
      "epoch : 9971 | loss: 0.000 | w: 2.0004,b:0.9974\n",
      "epoch : 9981 | loss: 0.000 | w: 2.0004,b:0.9974\n",
      "epoch : 9991 | loss: 0.000 | w: 2.0004,b:0.9974\n",
      "f(5): 10.999269485473633\n"
     ]
    }
   ],
   "source": [
    "alpha=0.001\n",
    "n_iters=10000\n",
    "for epoch in range(n_iters):\n",
    "    y_pred=forward(X)\n",
    "\n",
    "    l=loss_function(y_pred,Y)\n",
    "    loss_variables.append(l.item())\n",
    "    l.backward()\n",
    "    with torch.no_grad():\n",
    "        w-=alpha*w.grad\n",
    "        b-=alpha*b.grad\n",
    "        #print(w)\n",
    "    w.grad.zero_()\n",
    "    b.grad.zero_()\n",
    "    if epoch%10==0:\n",
    "        print(f'epoch : {epoch+1} | loss: {l:.3f} | w: {w:.4f},b:{b:.4f}')\n",
    "print(f'f(5): {forward(5)}')"
   ]
  },
  {
   "cell_type": "code",
   "execution_count": 145,
   "metadata": {},
   "outputs": [],
   "source": [
    "import matplotlib.pyplot as plt "
   ]
  },
  {
   "cell_type": "code",
   "execution_count": 146,
   "metadata": {},
   "outputs": [
    {
     "data": {
      "image/png": "[encoded data removed]",
      "text/plain": [
       "<Figure size 640x480 with 1 Axes>"
      ]
     },
     "metadata": {},
     "output_type": "display_data"
    }
   ],
   "source": [
    "with torch.no_grad():   \n",
    "    plt.plot(np.array(X),np.array(forward(X)))\n",
    "    plt.plot(np.array(X),np.array(Y))"
   ]
  },
  {
   "cell_type": "code",
   "execution_count": null,
   "metadata": {},
   "outputs": [],
   "source": []
  },
  {
   "cell_type": "markdown",
   "metadata": {},
   "source": [
    "#### auto mation of loss function"
   ]
  },
  {
   "cell_type": "code",
   "execution_count": 151,
   "metadata": {},
   "outputs": [],
   "source": [
    "import torch.nn as nn"
   ]
  },
  {
   "cell_type": "code",
   "execution_count": null,
   "metadata": {},
   "outputs": [],
   "source": [
    "X=torch.tensor([0,1,2,3,4,5,6,7,8,9,10],dtype=torch.float32)\n",
    "Y=torch.tensor([1,3,5,7,9,11,13,15,17,19,21],dtype=torch.float32)"
   ]
  },
  {
   "cell_type": "code",
   "execution_count": 152,
   "metadata": {},
   "outputs": [],
   "source": [
    "loss=nn.MSELoss()"
   ]
  },
  {
   "cell_type": "code",
   "execution_count": 154,
   "metadata": {},
   "outputs": [],
   "source": [
    "w=torch.tensor(0,dtype=torch.float32,requires_grad=True)\n",
    "b=torch.tensor(0,dtype=torch.float32,requires_grad=True)"
   ]
  },
  {
   "cell_type": "code",
   "execution_count": 158,
   "metadata": {},
   "outputs": [],
   "source": [
    "def forward(x):\n",
    "    return w*x+b"
   ]
  },
  {
   "cell_type": "code",
   "execution_count": 155,
   "metadata": {},
   "outputs": [],
   "source": [
    "optimizer=torch.optim.SGD([w,b],lr=0.01)\n"
   ]
  },
  {
   "cell_type": "code",
   "execution_count": 156,
   "metadata": {},
   "outputs": [],
   "source": [
    "n_iter=1000"
   ]
  },
  {
   "cell_type": "code",
   "execution_count": 159,
   "metadata": {},
   "outputs": [
    {
     "name": "stdout",
     "output_type": "stream",
     "text": [
      "epoch : 1 | loss: 161.000 | w: 1.5000,b:0.2200\n",
      "epoch : 11 | loss: 0.124 | w: 2.0944,b:0.3443\n",
      "epoch : 21 | loss: 0.111 | w: 2.0893,b:0.3801\n",
      "epoch : 31 | loss: 0.099 | w: 2.0844,b:0.4139\n",
      "epoch : 41 | loss: 0.089 | w: 2.0798,b:0.4459\n",
      "epoch : 51 | loss: 0.079 | w: 2.0754,b:0.4762\n",
      "epoch : 61 | loss: 0.071 | w: 2.0713,b:0.5048\n",
      "epoch : 71 | loss: 0.063 | w: 2.0674,b:0.5318\n",
      "epoch : 81 | loss: 0.057 | w: 2.0637,b:0.5574\n",
      "epoch : 91 | loss: 0.051 | w: 2.0603,b:0.5815\n",
      "epoch : 101 | loss: 0.045 | w: 2.0570,b:0.6044\n",
      "epoch : 111 | loss: 0.040 | w: 2.0539,b:0.6260\n",
      "epoch : 121 | loss: 0.036 | w: 2.0509,b:0.6464\n",
      "epoch : 131 | loss: 0.032 | w: 2.0481,b:0.6657\n",
      "epoch : 141 | loss: 0.029 | w: 2.0455,b:0.6840\n",
      "epoch : 151 | loss: 0.026 | w: 2.0430,b:0.7012\n",
      "epoch : 161 | loss: 0.023 | w: 2.0407,b:0.7175\n",
      "epoch : 171 | loss: 0.021 | w: 2.0385,b:0.7330\n",
      "epoch : 181 | loss: 0.018 | w: 2.0364,b:0.7475\n",
      "epoch : 191 | loss: 0.016 | w: 2.0344,b:0.7613\n",
      "epoch : 201 | loss: 0.015 | w: 2.0325,b:0.7744\n",
      "epoch : 211 | loss: 0.013 | w: 2.0307,b:0.7867\n",
      "epoch : 221 | loss: 0.012 | w: 2.0290,b:0.7983\n",
      "epoch : 231 | loss: 0.011 | w: 2.0275,b:0.8093\n",
      "epoch : 241 | loss: 0.009 | w: 2.0260,b:0.8197\n",
      "epoch : 251 | loss: 0.008 | w: 2.0245,b:0.8296\n",
      "epoch : 261 | loss: 0.008 | w: 2.0232,b:0.8389\n",
      "epoch : 271 | loss: 0.007 | w: 2.0219,b:0.8477\n",
      "epoch : 281 | loss: 0.006 | w: 2.0207,b:0.8560\n",
      "epoch : 291 | loss: 0.005 | w: 2.0196,b:0.8639\n",
      "epoch : 301 | loss: 0.005 | w: 2.0185,b:0.8713\n",
      "epoch : 311 | loss: 0.004 | w: 2.0175,b:0.8783\n",
      "epoch : 321 | loss: 0.004 | w: 2.0166,b:0.8850\n",
      "epoch : 331 | loss: 0.003 | w: 2.0157,b:0.8913\n",
      "epoch : 341 | loss: 0.003 | w: 2.0148,b:0.8972\n",
      "epoch : 351 | loss: 0.003 | w: 2.0140,b:0.9028\n",
      "epoch : 361 | loss: 0.002 | w: 2.0132,b:0.9081\n",
      "epoch : 371 | loss: 0.002 | w: 2.0125,b:0.9131\n",
      "epoch : 381 | loss: 0.002 | w: 2.0118,b:0.9179\n",
      "epoch : 391 | loss: 0.002 | w: 2.0112,b:0.9224\n",
      "epoch : 401 | loss: 0.002 | w: 2.0106,b:0.9266\n",
      "epoch : 411 | loss: 0.001 | w: 2.0100,b:0.9306\n",
      "epoch : 421 | loss: 0.001 | w: 2.0094,b:0.9344\n",
      "epoch : 431 | loss: 0.001 | w: 2.0089,b:0.9380\n",
      "epoch : 441 | loss: 0.001 | w: 2.0084,b:0.9414\n",
      "epoch : 451 | loss: 0.001 | w: 2.0080,b:0.9446\n",
      "epoch : 461 | loss: 0.001 | w: 2.0075,b:0.9476\n",
      "epoch : 471 | loss: 0.001 | w: 2.0071,b:0.9505\n",
      "epoch : 481 | loss: 0.001 | w: 2.0067,b:0.9532\n",
      "epoch : 491 | loss: 0.001 | w: 2.0064,b:0.9557\n",
      "epoch : 501 | loss: 0.001 | w: 2.0060,b:0.9581\n",
      "epoch : 511 | loss: 0.000 | w: 2.0057,b:0.9604\n",
      "epoch : 521 | loss: 0.000 | w: 2.0054,b:0.9626\n",
      "epoch : 531 | loss: 0.000 | w: 2.0051,b:0.9646\n",
      "epoch : 541 | loss: 0.000 | w: 2.0048,b:0.9666\n",
      "epoch : 551 | loss: 0.000 | w: 2.0046,b:0.9684\n",
      "epoch : 561 | loss: 0.000 | w: 2.0043,b:0.9701\n",
      "epoch : 571 | loss: 0.000 | w: 2.0041,b:0.9717\n",
      "epoch : 581 | loss: 0.000 | w: 2.0038,b:0.9733\n",
      "epoch : 591 | loss: 0.000 | w: 2.0036,b:0.9747\n",
      "epoch : 601 | loss: 0.000 | w: 2.0034,b:0.9761\n",
      "epoch : 611 | loss: 0.000 | w: 2.0033,b:0.9774\n",
      "epoch : 621 | loss: 0.000 | w: 2.0031,b:0.9787\n",
      "epoch : 631 | loss: 0.000 | w: 2.0029,b:0.9798\n",
      "epoch : 641 | loss: 0.000 | w: 2.0027,b:0.9809\n",
      "epoch : 651 | loss: 0.000 | w: 2.0026,b:0.9820\n",
      "epoch : 661 | loss: 0.000 | w: 2.0025,b:0.9830\n",
      "epoch : 671 | loss: 0.000 | w: 2.0023,b:0.9839\n",
      "epoch : 681 | loss: 0.000 | w: 2.0022,b:0.9848\n",
      "epoch : 691 | loss: 0.000 | w: 2.0021,b:0.9856\n",
      "epoch : 701 | loss: 0.000 | w: 2.0020,b:0.9864\n",
      "epoch : 711 | loss: 0.000 | w: 2.0019,b:0.9871\n",
      "epoch : 721 | loss: 0.000 | w: 2.0018,b:0.9878\n",
      "epoch : 731 | loss: 0.000 | w: 2.0017,b:0.9885\n",
      "epoch : 741 | loss: 0.000 | w: 2.0016,b:0.9891\n",
      "epoch : 751 | loss: 0.000 | w: 2.0015,b:0.9897\n",
      "epoch : 761 | loss: 0.000 | w: 2.0014,b:0.9903\n",
      "epoch : 771 | loss: 0.000 | w: 2.0013,b:0.9908\n",
      "epoch : 781 | loss: 0.000 | w: 2.0013,b:0.9913\n",
      "epoch : 791 | loss: 0.000 | w: 2.0012,b:0.9918\n",
      "epoch : 801 | loss: 0.000 | w: 2.0011,b:0.9922\n",
      "epoch : 811 | loss: 0.000 | w: 2.0011,b:0.9927\n",
      "epoch : 821 | loss: 0.000 | w: 2.0010,b:0.9931\n",
      "epoch : 831 | loss: 0.000 | w: 2.0009,b:0.9934\n",
      "epoch : 841 | loss: 0.000 | w: 2.0009,b:0.9938\n",
      "epoch : 851 | loss: 0.000 | w: 2.0008,b:0.9941\n",
      "epoch : 861 | loss: 0.000 | w: 2.0008,b:0.9945\n",
      "epoch : 871 | loss: 0.000 | w: 2.0008,b:0.9948\n",
      "epoch : 881 | loss: 0.000 | w: 2.0007,b:0.9950\n",
      "epoch : 891 | loss: 0.000 | w: 2.0007,b:0.9953\n",
      "epoch : 901 | loss: 0.000 | w: 2.0006,b:0.9956\n",
      "epoch : 911 | loss: 0.000 | w: 2.0006,b:0.9958\n",
      "epoch : 921 | loss: 0.000 | w: 2.0006,b:0.9960\n",
      "epoch : 931 | loss: 0.000 | w: 2.0005,b:0.9963\n",
      "epoch : 941 | loss: 0.000 | w: 2.0005,b:0.9965\n",
      "epoch : 951 | loss: 0.000 | w: 2.0005,b:0.9967\n",
      "epoch : 961 | loss: 0.000 | w: 2.0005,b:0.9968\n",
      "epoch : 971 | loss: 0.000 | w: 2.0004,b:0.9970\n",
      "epoch : 981 | loss: 0.000 | w: 2.0004,b:0.9972\n",
      "epoch : 991 | loss: 0.000 | w: 2.0004,b:0.9973\n",
      "f(5): 10.999288558959961\n"
     ]
    }
   ],
   "source": [
    "for epoch in range(n_iter):\n",
    "    y_pred=forward(X)\n",
    "    l=loss(y_pred,Y)\n",
    "    l.backward()\n",
    "    optimizer.step()\n",
    "    optimizer.zero_grad()\n",
    "    if epoch%10==0:\n",
    "        print(f'epoch : {epoch+1} | loss: {l:.3f} | w: {w:.4f},b:{b:.4f}')\n",
    "print(f'f(5): {forward(5)}')\n",
    "\n",
    "    \n"
   ]
  },
  {
   "cell_type": "code",
   "execution_count": null,
   "metadata": {},
   "outputs": [],
   "source": []
  },
  {
   "cell_type": "markdown",
   "metadata": {},
   "source": [
    "#### full model automation"
   ]
  },
  {
   "cell_type": "code",
   "execution_count": 202,
   "metadata": {},
   "outputs": [],
   "source": [
    "import torch.nn as nn"
   ]
  },
  {
   "cell_type": "code",
   "execution_count": 241,
   "metadata": {},
   "outputs": [],
   "source": [
    "X=torch.tensor([[1],[2],[3],[4],[5]],dtype=torch.float32,device=\"cuda\")\n",
    "Y=torch.tensor([[3],[5],[7],[9],[11]],dtype=torch.float32,device=\"cuda\")"
   ]
  },
  {
   "cell_type": "code",
   "execution_count": 242,
   "metadata": {},
   "outputs": [
    {
     "data": {
      "text/plain": [
       "torch.Size([5, 1])"
      ]
     },
     "execution_count": 242,
     "metadata": {},
     "output_type": "execute_result"
    }
   ],
   "source": [
    "X.shape"
   ]
  },
  {
   "cell_type": "code",
   "execution_count": 243,
   "metadata": {},
   "outputs": [],
   "source": [
    "n_samples,n_features=X.shape"
   ]
  },
  {
   "cell_type": "code",
   "execution_count": 244,
   "metadata": {},
   "outputs": [],
   "source": [
    "n_input=n_features\n",
    "n_ouput=n_features"
   ]
  },
  {
   "cell_type": "code",
   "execution_count": 245,
   "metadata": {},
   "outputs": [],
   "source": [
    "model=nn.Linear(n_input,n_ouput,device=\"cuda\")"
   ]
  },
  {
   "cell_type": "code",
   "execution_count": 246,
   "metadata": {},
   "outputs": [],
   "source": [
    "alpha=0.01"
   ]
  },
  {
   "cell_type": "code",
   "execution_count": 247,
   "metadata": {},
   "outputs": [],
   "source": [
    "loss=nn.MSELoss()\n",
    "optimizer=torch.optim.SGD(model.parameters(),lr=alpha)"
   ]
  },
  {
   "cell_type": "code",
   "execution_count": 248,
   "metadata": {},
   "outputs": [
    {
     "name": "stdout",
     "output_type": "stream",
     "text": [
      "epoch : 1 | loss: 79.865 | w: 0.0787,b:0.5062\n",
      "epoch : 11 | loss: 0.361 | w: 1.8620,b:0.9989\n",
      "epoch : 21 | loss: 0.002 | w: 1.9821,b:1.0309\n",
      "epoch : 31 | loss: 0.000 | w: 1.9905,b:1.0320\n",
      "epoch : 41 | loss: 0.000 | w: 1.9913,b:1.0311\n",
      "epoch : 51 | loss: 0.000 | w: 1.9917,b:1.0301\n",
      "epoch : 61 | loss: 0.000 | w: 1.9919,b:1.0291\n",
      "epoch : 71 | loss: 0.000 | w: 1.9922,b:1.0281\n",
      "epoch : 81 | loss: 0.000 | w: 1.9925,b:1.0272\n",
      "epoch : 91 | loss: 0.000 | w: 1.9927,b:1.0263\n",
      "epoch : 101 | loss: 0.000 | w: 1.9930,b:1.0254\n",
      "epoch : 111 | loss: 0.000 | w: 1.9932,b:1.0246\n",
      "epoch : 121 | loss: 0.000 | w: 1.9934,b:1.0237\n",
      "epoch : 131 | loss: 0.000 | w: 1.9936,b:1.0230\n",
      "epoch : 141 | loss: 0.000 | w: 1.9939,b:1.0222\n",
      "epoch : 151 | loss: 0.000 | w: 1.9941,b:1.0214\n",
      "epoch : 161 | loss: 0.000 | w: 1.9943,b:1.0207\n",
      "epoch : 171 | loss: 0.000 | w: 1.9944,b:1.0200\n",
      "epoch : 181 | loss: 0.000 | w: 1.9946,b:1.0194\n",
      "epoch : 191 | loss: 0.000 | w: 1.9948,b:1.0187\n",
      "epoch : 201 | loss: 0.000 | w: 1.9950,b:1.0181\n",
      "epoch : 211 | loss: 0.000 | w: 1.9952,b:1.0175\n",
      "epoch : 221 | loss: 0.000 | w: 1.9953,b:1.0169\n",
      "epoch : 231 | loss: 0.000 | w: 1.9955,b:1.0164\n",
      "epoch : 241 | loss: 0.000 | w: 1.9956,b:1.0158\n",
      "epoch : 251 | loss: 0.000 | w: 1.9958,b:1.0153\n",
      "epoch : 261 | loss: 0.000 | w: 1.9959,b:1.0148\n",
      "epoch : 271 | loss: 0.000 | w: 1.9960,b:1.0143\n",
      "epoch : 281 | loss: 0.000 | w: 1.9962,b:1.0138\n",
      "epoch : 291 | loss: 0.000 | w: 1.9963,b:1.0133\n",
      "epoch : 301 | loss: 0.000 | w: 1.9964,b:1.0129\n",
      "epoch : 311 | loss: 0.000 | w: 1.9965,b:1.0125\n",
      "epoch : 321 | loss: 0.000 | w: 1.9967,b:1.0121\n",
      "epoch : 331 | loss: 0.000 | w: 1.9968,b:1.0117\n",
      "epoch : 341 | loss: 0.000 | w: 1.9969,b:1.0113\n",
      "epoch : 351 | loss: 0.000 | w: 1.9970,b:1.0109\n",
      "epoch : 361 | loss: 0.000 | w: 1.9971,b:1.0105\n",
      "epoch : 371 | loss: 0.000 | w: 1.9972,b:1.0102\n",
      "epoch : 381 | loss: 0.000 | w: 1.9973,b:1.0098\n",
      "epoch : 391 | loss: 0.000 | w: 1.9974,b:1.0095\n",
      "epoch : 401 | loss: 0.000 | w: 1.9975,b:1.0092\n",
      "epoch : 411 | loss: 0.000 | w: 1.9975,b:1.0089\n",
      "epoch : 421 | loss: 0.000 | w: 1.9976,b:1.0086\n",
      "epoch : 431 | loss: 0.000 | w: 1.9977,b:1.0083\n",
      "epoch : 441 | loss: 0.000 | w: 1.9978,b:1.0080\n",
      "epoch : 451 | loss: 0.000 | w: 1.9978,b:1.0078\n",
      "epoch : 461 | loss: 0.000 | w: 1.9979,b:1.0075\n",
      "epoch : 471 | loss: 0.000 | w: 1.9980,b:1.0073\n",
      "epoch : 481 | loss: 0.000 | w: 1.9981,b:1.0070\n",
      "epoch : 491 | loss: 0.000 | w: 1.9981,b:1.0068\n",
      "epoch : 501 | loss: 0.000 | w: 1.9982,b:1.0066\n",
      "epoch : 511 | loss: 0.000 | w: 1.9982,b:1.0063\n",
      "epoch : 521 | loss: 0.000 | w: 1.9983,b:1.0061\n",
      "epoch : 531 | loss: 0.000 | w: 1.9984,b:1.0059\n",
      "epoch : 541 | loss: 0.000 | w: 1.9984,b:1.0057\n",
      "epoch : 551 | loss: 0.000 | w: 1.9985,b:1.0055\n",
      "epoch : 561 | loss: 0.000 | w: 1.9985,b:1.0053\n",
      "epoch : 571 | loss: 0.000 | w: 1.9986,b:1.0052\n",
      "epoch : 581 | loss: 0.000 | w: 1.9986,b:1.0050\n",
      "epoch : 591 | loss: 0.000 | w: 1.9987,b:1.0048\n",
      "epoch : 601 | loss: 0.000 | w: 1.9987,b:1.0047\n",
      "epoch : 611 | loss: 0.000 | w: 1.9987,b:1.0045\n",
      "epoch : 621 | loss: 0.000 | w: 1.9988,b:1.0044\n",
      "epoch : 631 | loss: 0.000 | w: 1.9988,b:1.0042\n",
      "epoch : 641 | loss: 0.000 | w: 1.9989,b:1.0041\n",
      "epoch : 651 | loss: 0.000 | w: 1.9989,b:1.0039\n",
      "epoch : 661 | loss: 0.000 | w: 1.9989,b:1.0038\n",
      "epoch : 671 | loss: 0.000 | w: 1.9990,b:1.0037\n",
      "epoch : 681 | loss: 0.000 | w: 1.9990,b:1.0036\n",
      "epoch : 691 | loss: 0.000 | w: 1.9990,b:1.0034\n",
      "epoch : 701 | loss: 0.000 | w: 1.9991,b:1.0033\n",
      "epoch : 711 | loss: 0.000 | w: 1.9991,b:1.0032\n",
      "epoch : 721 | loss: 0.000 | w: 1.9991,b:1.0031\n",
      "epoch : 731 | loss: 0.000 | w: 1.9992,b:1.0030\n",
      "epoch : 741 | loss: 0.000 | w: 1.9992,b:1.0029\n",
      "epoch : 751 | loss: 0.000 | w: 1.9992,b:1.0028\n",
      "epoch : 761 | loss: 0.000 | w: 1.9992,b:1.0027\n",
      "epoch : 771 | loss: 0.000 | w: 1.9993,b:1.0026\n",
      "epoch : 781 | loss: 0.000 | w: 1.9993,b:1.0025\n",
      "epoch : 791 | loss: 0.000 | w: 1.9993,b:1.0025\n",
      "epoch : 801 | loss: 0.000 | w: 1.9993,b:1.0024\n",
      "epoch : 811 | loss: 0.000 | w: 1.9994,b:1.0023\n",
      "epoch : 821 | loss: 0.000 | w: 1.9994,b:1.0022\n",
      "epoch : 831 | loss: 0.000 | w: 1.9994,b:1.0021\n",
      "epoch : 841 | loss: 0.000 | w: 1.9994,b:1.0021\n",
      "epoch : 851 | loss: 0.000 | w: 1.9994,b:1.0020\n",
      "epoch : 861 | loss: 0.000 | w: 1.9995,b:1.0019\n",
      "epoch : 871 | loss: 0.000 | w: 1.9995,b:1.0019\n",
      "epoch : 881 | loss: 0.000 | w: 1.9995,b:1.0018\n",
      "epoch : 891 | loss: 0.000 | w: 1.9995,b:1.0018\n",
      "epoch : 901 | loss: 0.000 | w: 1.9995,b:1.0017\n",
      "epoch : 911 | loss: 0.000 | w: 1.9995,b:1.0016\n",
      "epoch : 921 | loss: 0.000 | w: 1.9996,b:1.0016\n",
      "epoch : 931 | loss: 0.000 | w: 1.9996,b:1.0015\n",
      "epoch : 941 | loss: 0.000 | w: 1.9996,b:1.0015\n",
      "epoch : 951 | loss: 0.000 | w: 1.9996,b:1.0014\n",
      "epoch : 961 | loss: 0.000 | w: 1.9996,b:1.0014\n",
      "epoch : 971 | loss: 0.000 | w: 1.9996,b:1.0013\n",
      "epoch : 981 | loss: 0.000 | w: 1.9996,b:1.0013\n",
      "epoch : 991 | loss: 0.000 | w: 1.9997,b:1.0012\n",
      "f(5): tensor([10.9995], device='cuda:0', grad_fn=<ViewBackward0>)\n"
     ]
    }
   ],
   "source": [
    "n_iters=1000\n",
    "for epoch in range(n_iters):\n",
    "    y_pred=model(X)\n",
    "    l=loss(y_pred,Y)\n",
    "    l.backward()\n",
    "    optimizer.step()\n",
    "    optimizer.zero_grad()\n",
    "    [w,b]=model.parameters()\n",
    "    if epoch%10==0:\n",
    "        print(f'epoch : {epoch+1} | loss: {l:.3f} | w: {w[0][0].item():.4f},b:{b[0].item():.4f}')\n",
    "print(f'f(5): {model(torch.tensor([5],dtype=torch.float32,device=\"cuda\"))}')"
   ]
  },
  {
   "cell_type": "code",
   "execution_count": null,
   "metadata": {},
   "outputs": [],
   "source": []
  },
  {
   "cell_type": "code",
   "execution_count": null,
   "metadata": {},
   "outputs": [],
   "source": []
  }
 ],
 "metadata": {
  "kernelspec": {
   "display_name": "llm",
   "language": "python",
   "name": "python3"
  },
  "language_info": {
   "codemirror_mode": {
    "name": "ipython",
    "version": 3
   },
   "file_extension": ".py",
   "mimetype": "text/x-python",
   "name": "python",
   "nbconvert_exporter": "python",
   "pygments_lexer": "ipython3",
   "version": "3.11.0"
  }
 },
 "nbformat": 4,
 "nbformat_minor": 2
}
